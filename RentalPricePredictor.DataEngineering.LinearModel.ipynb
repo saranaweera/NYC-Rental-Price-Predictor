{
 "cells": [
  {
   "cell_type": "code",
   "execution_count": 1,
   "metadata": {
    "collapsed": true
   },
   "outputs": [],
   "source": [
    "import pandas\n",
    "import glob\n",
    "import numpy as np\n",
    "import pandas as pd"
   ]
  },
  {
   "cell_type": "code",
   "execution_count": 2,
   "metadata": {
    "collapsed": false
   },
   "outputs": [
    {
     "data": {
      "text/plain": [
       "(27829, 26)"
      ]
     },
     "execution_count": 2,
     "metadata": {},
     "output_type": "execute_result"
    }
   ],
   "source": [
    "unitListingsDf = pd.read_pickle('data/unitListingsDf.Cleaned.pkl')\n",
    "unitListingsDf.shape"
   ]
  },
  {
   "cell_type": "code",
   "execution_count": 3,
   "metadata": {
    "collapsed": true
   },
   "outputs": [],
   "source": [
    "import matplotlib.pyplot as plt\n",
    "%matplotlib inline"
   ]
  },
  {
   "cell_type": "code",
   "execution_count": 4,
   "metadata": {
    "collapsed": false
   },
   "outputs": [
    {
     "data": {
      "text/plain": [
       "(750, 12000)"
      ]
     },
     "execution_count": 4,
     "metadata": {},
     "output_type": "execute_result"
    },
    {
     "data": {
      "image/png": "[encoded data removed]",
      "text/plain": [
       "<matplotlib.figure.Figure at 0x119a1e3c8>"
      ]
     },
     "metadata": {},
     "output_type": "display_data"
    }
   ],
   "source": [
    "ax = unitListingsDf.price.hist(bins=200)\n",
    "#ax.set_xscale('log')\n",
    "ax.set_xlim([750,12000])"
   ]
  },
  {
   "cell_type": "code",
   "execution_count": 15,
   "metadata": {
    "collapsed": false
   },
   "outputs": [
    {
     "name": "stderr",
     "output_type": "stream",
     "text": [
      "/Users/cooldude/anaconda/lib/python3.6/site-packages/matplotlib/axes/_axes.py:545: UserWarning: No labelled objects found. Use label='...' kwarg on individual plots.\n",
      "  warnings.warn(\"No labelled objects found. \"\n"
     ]
    },
    {
     "data": {
      "image/png": "[encoded data removed]",
      "text/plain": [
       "<matplotlib.figure.Figure at 0x132469550>"
      ]
     },
     "metadata": {},
     "output_type": "display_data"
    }
   ],
   "source": [
    "fig = plt.figure()\n",
    "ax = fig.add_subplot(111)\n",
    "unitListingsDf.groupby('bedrooms').price.hist(bins=200, ax= ax)\n",
    "fig.set_size_inches(8,6)\n",
    "ax.set_xlim([0,10000])\n",
    "ax.legend(loc='best')\n"
   ]
  },
  {
   "cell_type": "code",
   "execution_count": 16,
   "metadata": {
    "collapsed": false
   },
   "outputs": [
    {
     "data": {
      "text/html": [
       "<iframe id=\"igraph\" scrolling=\"no\" style=\"border:none;\" seamless=\"seamless\" src=\"https://plot.ly/~sranaweera/2.embed\" height=\"525px\" width=\"100%\"></iframe>"
      ],
      "text/plain": [
       "<plotly.tools.PlotlyDisplay object>"
      ]
     },
     "execution_count": 16,
     "metadata": {},
     "output_type": "execute_result"
    }
   ],
   "source": [
    "import plotly.plotly as py\n",
    "from plotly.graph_objs import *\n",
    "\n",
    "mapbox_access_token = 'pk.eyJ1Ijoic3JhbmF3ZWVyYSIsImEiOiJjajJubm4yMzkwMXZxMzJxd3ltNGMzOTU1In0.JnEQGilfKySrin6-j3Y55g'\n",
    "\n",
    "data = Data([\n",
    "    Scattermapbox(\n",
    "        lat=['45.5017'],\n",
    "        lon=['-73.5673'],\n",
    "        mode='markers',\n",
    "        marker=Marker(\n",
    "            size=14\n",
    "        ),\n",
    "        text=['Montreal'],\n",
    "    )\n",
    "])\n",
    "\n",
    "layout = Layout(\n",
    "    autosize=True,\n",
    "    hovermode='closest',\n",
    "    mapbox=dict(\n",
    "        accesstoken=mapbox_access_token,\n",
    "        bearing=0,\n",
    "        center=dict(\n",
    "            lat=45,\n",
    "            lon=-73\n",
    "        ),\n",
    "        pitch=0,\n",
    "        zoom=5\n",
    "    ),\n",
    ")\n",
    "\n",
    "fig = dict(data=data, layout=layout)\n",
    "py.iplot(fig, filename='Montreal Mapbox')"
   ]
  },
  {
   "cell_type": "code",
   "execution_count": 6,
   "metadata": {
    "collapsed": false
   },
   "outputs": [],
   "source": [
    "# import seaborn as sns\n",
    "# t = mergeNeighborhoodMapping(unitListingsDf.copy())\n",
    "\n",
    "\n",
    "# ax = sns.boxplot(x='Borough', y='price',data = t[t.bedrooms == 1])\n",
    "# ax.set_ylim((0,7000))\n",
    "# sns.despine(trim=True)"
   ]
  },
  {
   "cell_type": "code",
   "execution_count": 7,
   "metadata": {
    "collapsed": false
   },
   "outputs": [],
   "source": [
    "import numpy as np\n",
    "\n",
    "def createLogColumns(df):\n",
    "    df = df.copy()\n",
    "    df['log_price'] = np.log(df['price'])\n",
    "    df['log_bedrooms'] = np.log(df.bedrooms + 1)\n",
    "    df['log_baths'] = np.log(df.baths)\n",
    "    df['sqrt_baths'] = np.sqrt(df.baths)\n",
    "    df['log_commuteDistance'] = np.log(df.commuteDistance)\n",
    "    df['sqrt_commuteDistance'] = np.sqrt(df.commuteDistance)\n",
    "    return(df)"
   ]
  },
  {
   "cell_type": "code",
   "execution_count": 8,
   "metadata": {
    "collapsed": false
   },
   "outputs": [],
   "source": [
    "def createSqrtColumns(df):\n",
    "    df = df.copy()\n",
    "    df['sqrt_baths'] = np.sqrt(df.baths)\n",
    "    df['log_commuteDistance'] = np.log(df.commuteDistance)\n",
    "    df['sqrt_commuteDistance'] = np.sqrt(df.commuteDistance)\n",
    "    return(df)"
   ]
  },
  {
   "cell_type": "markdown",
   "metadata": {},
   "source": [
    "Hash zips to neighborhood"
   ]
  },
  {
   "cell_type": "code",
   "execution_count": 9,
   "metadata": {
    "collapsed": false
   },
   "outputs": [],
   "source": [
    "def mergeNeighborhoodMapping(df):\n",
    "    url = 'https://www.health.ny.gov/statistics/cancer/registry/appendix/neighborhoods.htm'\n",
    "\n",
    "    neighborhoodsDf = pd.read_html(url)[0]\n",
    "\n",
    "    neighborhoodsDf = neighborhoodsDf.loc[1:]\n",
    "\n",
    "    neighborhoodsDf['shift'] = False\n",
    "    neighborhoodsDf.loc[neighborhoodsDf.iloc[:,2].isnull(), 'shift'] = True\n",
    "\n",
    "    neighborhoodsDf.loc[neighborhoodsDf.loc[:,'shift'], 2] = neighborhoodsDf.loc[neighborhoodsDf.loc[:,'shift'],1]\n",
    "    neighborhoodsDf.loc[neighborhoodsDf.loc[:,'shift'], 1] = neighborhoodsDf.loc[neighborhoodsDf.loc[:,'shift'],0]\n",
    "    neighborhoodsDf.loc[neighborhoodsDf['shift'] == True, 0 ] = None\n",
    "\n",
    "    neighborhoodsDf = neighborhoodsDf.iloc[:,0:3]\n",
    "\n",
    "    neighborhoodsDf.columns = ['Borough', 'Neighborhood', 'Zips']\n",
    "\n",
    "    neighborhoodsDf.Borough = neighborhoodsDf.Borough.fillna(method='ffill')\n",
    "\n",
    "    neighborhoodsDf.Zips = neighborhoodsDf.Zips.str.split(',')\n",
    "\n",
    "    tempZipDF = pd.concat([pd.DataFrame({'zipCode':v}, index=np.repeat(k,len(v))) \n",
    "                for k,v in neighborhoodsDf.Zips.to_dict().items()])   \n",
    "\n",
    "    neighborhoodsDf = (\n",
    "        neighborhoodsDf.merge(tempZipDF, left_index=True, right_index=True)\n",
    "        .loc[:,['Borough', 'Neighborhood', 'zipCode']]\n",
    "    )\n",
    "\n",
    "    neighborhoodsDf.zipCode = neighborhoodsDf.zipCode.str.strip()\n",
    "    \n",
    "    return(df.merge(neighborhoodsDf, how='left', on='zipCode'))"
   ]
  },
  {
   "cell_type": "code",
   "execution_count": 10,
   "metadata": {
    "collapsed": false
   },
   "outputs": [],
   "source": [
    "#incomeDf = scrapeAllZips(unitListingsDf.zipCode.unique())\n",
    "#incomeDf.to_pickle('data/originalIncomeByZipData.pkl')\n",
    "#populationDf = scrapeAllZipsForPopulation(unitListingsDf.zipCode.unique())\n",
    "#populationDf.to_pickle('data/originalPopulationByZipData.pkl')\n",
    "#incomeDf['value'] = incomeDf.value.str.replace('$','').str.replace(',','').str.replace('%','').astype(float)\n",
    "#populationDf\n",
    "\n",
    "def scrapeMedianIncome(zipCode):\n",
    "    t3 = pd.read_html('http://www.point2homes.com/US/Neighborhood/NY/New-York-City/' + zipCode + '-Demographics.html')\n",
    "    t3 = t3[6]\n",
    "    t3.columns = ['statistic', 'value']\n",
    "    t3['zipCode'] = zipCode\n",
    "    return(t3)\n",
    "\n",
    "def scrapePopulation(zipCode):\n",
    "    t3 = pd.read_html('http://www.point2homes.com/US/Neighborhood/NY/New-York-City/' + zipCode + '-Demographics.html')\n",
    "    t3 = t3[0]\n",
    "    t3.columns = ['statistic', 'value']\n",
    "    t3['zipCode'] = zipCode\n",
    "    return(t3)\n",
    "\n",
    "def scrapeAllZipsForIncome(zipCodeList):\n",
    "    incomeDf = None\n",
    "    for zipCode in zipCodeList:\n",
    "        try:\n",
    "            if incomeDf is None:\n",
    "                incomeDf = scrapeMedianIncome(zipCode)\n",
    "            else:\n",
    "                incomeDf = incomeDf.append([scrapeMedianIncome(zipCode)])\n",
    "        except:\n",
    "            print('Zip didnt work ' + zipCode)\n",
    "            pass\n",
    "    \n",
    "    return incomeDf\n",
    "\n",
    "\n",
    "def scrapeAllZipsForPopulation(zipCodeList):\n",
    "    populationDf = None\n",
    "    for zipCode in zipCodeList:\n",
    "        try:\n",
    "            if populationDf is None:\n",
    "                populationDf = scrapePopulation(zipCode)\n",
    "            else:\n",
    "                populationDf = populationDf.append([scrapePopulation(zipCode)])\n",
    "        except:\n",
    "            print('Zip didnt work ' + zipCode)\n",
    "            pass\n",
    "    \n",
    "    return populationDf\n",
    "\n",
    "\n",
    "def cleanStatisticAndReturnDf(df):\n",
    "    #df['value'] = df.value.str.replace('$','').str.replace(',','').str.replace('%','').astype(float)\n",
    "    return(df.pivot(index='zipCode', columns='statistic', values='value'))\n",
    "    \n",
    "def mergeIncomePopulationsStats(df):\n",
    "    incomeDf = pd.read_pickle('data/originalIncomeByZipData.pkl')\n",
    "    populationDf = pd.read_pickle('data/originalPopulationByZipData.pkl')\n",
    "\n",
    "    nycStatsDf = cleanStatisticAndReturnDf(incomeDf).merge(cleanStatisticAndReturnDf(populationDf), \n",
    "                                              left_index=True, \n",
    "                                              right_index=True)\n",
    "\n",
    "    nycStatsDf.columns =  nycStatsDf.columns.str.replace(' ','').str.replace('/','')\n",
    "    \n",
    "    df = df.merge(nycStatsDf, left_on='zipCode', how=\"left\", right_index=True)\n",
    "    \n",
    "    return(df)"
   ]
  },
  {
   "cell_type": "code",
   "execution_count": 11,
   "metadata": {
    "collapsed": false
   },
   "outputs": [],
   "source": [
    "# def wavg(group, avg_name, weight_name):\n",
    "#     \"\"\" http://stackoverflow.com/questions/10951341/pandas-dataframe-aggregate-function-using-multiple-columns\n",
    "#     In rare instance, we may not have weights, so just return the mean. Customize this if your business case\n",
    "#     should return otherwise.\n",
    "#     \"\"\"\n",
    "#     d = group[avg_name]\n",
    "#     w = group[weight_name]\n",
    "#     try:\n",
    "#         return (d * w).sum() / w.sum()\n",
    "#     except ZeroDivisionError:\n",
    "#         return d.mean()\n",
    "    \n",
    "\n",
    "# medianIncomeByNeighborhood = neighborhoodsDf.merge(nycStatsDf, left_on='zipCode', right_index=True).groupby('Neighborhood').apply(wavg, 'MedianHouseholdIncome', 'TotalPopulation' ).reset_index()\n",
    "# medianIncomeByNeighborhood.columns = ['Neighborhood', 'MedianIncome']\n",
    "# medianAgeByNeighborhood = neighborhoodsDf.merge(nycStatsDf, left_on='zipCode', right_index=True).groupby('Neighborhood').apply(wavg, 'MedianAge', 'TotalPopulation' ).reset_index()\n",
    "# medianAgeByNeighborhood.columns = ['Neighborhood', 'MedianAge']\n",
    "\n",
    "# medianAgeByNeighborhood.head()\n",
    "# medianIncomeByNeighborhood.head()\n",
    "\n",
    "# medianIncomeByNeighborhood.isnull().sum()"
   ]
  },
  {
   "cell_type": "code",
   "execution_count": 12,
   "metadata": {
    "collapsed": false
   },
   "outputs": [],
   "source": [
    "#unitListingsDf = unitListingsDf.merge(neighborhoodsDf, how='left', on='zipCode')"
   ]
  },
  {
   "cell_type": "code",
   "execution_count": 13,
   "metadata": {
    "collapsed": true
   },
   "outputs": [],
   "source": [
    "propAmenityCounts = (unitListingsDf.origpropertyAmenities\n",
    " .apply(lambda x: pd.Series(x)).unstack()\n",
    " .value_counts().reset_index())\n",
    "\n",
    "propAmenityCounts.columns = ['amenity', 'cnt']\n",
    "topPropAmenities = propAmenityCounts.loc[-propAmenityCounts.amenity.str.contains('MLS',regex=False)].head(30).amenity.tolist()\n",
    "\n",
    "unitAmenityCounts = (unitListingsDf.origunitAmenities\n",
    " .apply(lambda x: pd.Series(x)).unstack()\n",
    " .value_counts().reset_index())\n",
    "\n",
    "unitAmenityCounts.columns = ['amenity', 'cnt']\n",
    "topUnitAmenities = unitAmenityCounts.loc[-unitAmenityCounts.amenity.str.contains('MLS',regex=False)].head(15).amenity.tolist()\n",
    "\n",
    "\n",
    "def oneHotAmmenties(unitListingsDf, topPropAmenities, topUnitAmenities):\n",
    "    topAmenitiesList = list(set(topPropAmenities + topUnitAmenities))\n",
    "    t = pd.concat([unitListingsDf, pd.DataFrame(columns=topAmenitiesList)])\n",
    "    t[topAmenitiesList ] = 0\n",
    "\n",
    "    def propAmenityTransform(x):\n",
    "        for col in set(x.origpropertyAmenities + x.origunitAmenities):\n",
    "            if col in topAmenitiesList:\n",
    "                x[col] = 1\n",
    "        return(x)\n",
    "\n",
    "    t = t.apply(lambda x: propAmenityTransform(x), axis=1)\n",
    "    return(t)"
   ]
  },
  {
   "cell_type": "code",
   "execution_count": 14,
   "metadata": {
    "collapsed": true
   },
   "outputs": [],
   "source": [
    "import patsy\n",
    "\n",
    "def oneHotNeighborhoods(df):\n",
    "    return(df.join(patsy.dmatrix('Neighborhood', data=df, return_type='dataframe')))"
   ]
  },
  {
   "cell_type": "code",
   "execution_count": null,
   "metadata": {
    "collapsed": true,
    "scrolled": true
   },
   "outputs": [],
   "source": []
  },
  {
   "cell_type": "code",
   "execution_count": 15,
   "metadata": {
    "collapsed": false
   },
   "outputs": [
    {
     "name": "stdout",
     "output_type": "stream",
     "text": [
      "Index(['AdditionalStorage', 'AirConditioning', 'Alarm',\n",
      "       'AverageHouseholdIncome', 'AverageHouseholdNetWorth',\n",
      "       'AverageHouseholdTotalExpenditure', 'Balcony', 'Balcony,Deck,orPatio',\n",
      "       'BikeRoom', 'CableReady',\n",
      "       ...\n",
      "       'Neighborhood[T.Southeast Queens]', 'Neighborhood[T.Southern Brooklyn]',\n",
      "       'Neighborhood[T.Southwest Brooklyn]',\n",
      "       'Neighborhood[T.Southwest Queens]',\n",
      "       'Neighborhood[T.Stapleton and St. George]',\n",
      "       'Neighborhood[T.Sunset Park]', 'Neighborhood[T.Upper East Side]',\n",
      "       'Neighborhood[T.Upper West Side]',\n",
      "       'Neighborhood[T.West Central Queens]', 'Neighborhood[T.West Queens]'],\n",
      "      dtype='object', length=110)\n"
     ]
    }
   ],
   "source": [
    "#dataset = oneHotAmmenties(oneHotNeighborhoods(unitListingsDf), topPropAmenities, topUnitAmenities).select_dtypes(exclude=['object'])\n",
    "dataset = createLogColumns(unitListingsDf)\n",
    "dataset = createLogColumns(dataset)\n",
    "\n",
    "dataset = mergeNeighborhoodMapping(dataset)\n",
    "\n",
    "dataset = mergeIncomePopulationsStats(dataset)\n",
    "\n",
    "\n",
    "\n",
    "oneHotAmenitiesDf = oneHotAmmenties(dataset, topPropAmenities, topUnitAmenities)\n",
    "oneHotAmenitiesDf.columns = [col.replace(' ','').replace('/','') for col in oneHotAmenitiesDf.columns]\n",
    "\n",
    "dataset = pd.concat([dataset, oneHotAmenitiesDf])\n",
    "\n",
    "dataset = oneHotNeighborhoods(dataset)\n",
    "\n",
    "\n",
    "colsToKeep = [x for x in dataset.columns if not 'orig'in x]\n",
    "#colsToKeep = [x for x in colsToKeep if not x in ('Neighborhood', 'Borough', 'zipCode')]\n",
    "#print(colsToKeep)\n",
    "#colsToKeep = [x for x in colsToKeep if not ('log_' + x) in colsToKeep]\n",
    "#print(colsToKeep)\n",
    "#colsToKeep = [x for x in colsToKeep if not x in ['log_baths', 'log_commuteDistance']]\n",
    "#print(colsToKeep)\n",
    "dataset = dataset[colsToKeep].select_dtypes(exclude=['object']).dropna()\n",
    "#print(colsToKeep)\n",
    "print(dataset.columns)\n",
    "\n",
    "\n"
   ]
  },
  {
   "cell_type": "code",
   "execution_count": 16,
   "metadata": {
    "collapsed": false
   },
   "outputs": [
    {
     "data": {
      "text/plain": [
       "['Neighborhood[T.Bronx Park and Fordham]',\n",
       " 'Neighborhood[T.Bushwick and Williamsburg]',\n",
       " 'Neighborhood[T.Canarsie and Flatlands]',\n",
       " 'Neighborhood[T.Central Bronx]',\n",
       " 'Neighborhood[T.Central Brooklyn]',\n",
       " 'Neighborhood[T.Central Harlem]',\n",
       " 'Neighborhood[T.Central Queens]',\n",
       " 'Neighborhood[T.Chelsea and Clinton]',\n",
       " 'Neighborhood[T.East Harlem]',\n",
       " 'Neighborhood[T.East New York and New Lots]',\n",
       " 'Neighborhood[T.Flatbush]',\n",
       " 'Neighborhood[T.Gramercy Park and Murray Hill]',\n",
       " 'Neighborhood[T.Greenpoint]',\n",
       " 'Neighborhood[T.Greenwich Village and Soho]',\n",
       " 'Neighborhood[T.High Bridge and Morrisania]',\n",
       " 'Neighborhood[T.Hunts Point and Mott Haven]',\n",
       " 'Neighborhood[T.Inwood and Washington Heights]',\n",
       " 'Neighborhood[T.Jamaica]',\n",
       " 'Neighborhood[T.Kingsbridge and Riverdale]',\n",
       " 'Neighborhood[T.Lower East Side]',\n",
       " 'Neighborhood[T.Lower Manhattan]',\n",
       " 'Neighborhood[T.Mid-Island]',\n",
       " 'Neighborhood[T.North Queens]',\n",
       " 'Neighborhood[T.Northeast Bronx]',\n",
       " 'Neighborhood[T.Northeast Queens]',\n",
       " 'Neighborhood[T.Northwest Brooklyn]',\n",
       " 'Neighborhood[T.Northwest Queens]',\n",
       " 'Neighborhood[T.Port Richmond]',\n",
       " 'Neighborhood[T.Rockaways]',\n",
       " 'Neighborhood[T.South Shore]',\n",
       " 'Neighborhood[T.Southeast Bronx]',\n",
       " 'Neighborhood[T.Southeast Queens]',\n",
       " 'Neighborhood[T.Southern Brooklyn]',\n",
       " 'Neighborhood[T.Southwest Brooklyn]',\n",
       " 'Neighborhood[T.Southwest Queens]',\n",
       " 'Neighborhood[T.Stapleton and St. George]',\n",
       " 'Neighborhood[T.Sunset Park]',\n",
       " 'Neighborhood[T.Upper East Side]',\n",
       " 'Neighborhood[T.Upper West Side]',\n",
       " 'Neighborhood[T.West Central Queens]',\n",
       " 'Neighborhood[T.West Queens]']"
      ]
     },
     "execution_count": 16,
     "metadata": {},
     "output_type": "execute_result"
    }
   ],
   "source": [
    "[i for i in dataset.columns if 'Neighborhood[' in i]"
   ]
  },
  {
   "cell_type": "code",
   "execution_count": null,
   "metadata": {
    "collapsed": false
   },
   "outputs": [],
   "source": []
  },
  {
   "cell_type": "code",
   "execution_count": 17,
   "metadata": {
    "collapsed": true
   },
   "outputs": [],
   "source": [
    "from __future__ import print_function, division\n",
    "\n",
    "# Necessary imports\n",
    "import pandas as pd\n",
    "import numpy as np\n",
    "import seaborn as sns\n",
    "from seaborn import plt\n",
    "from sklearn.linear_model import LinearRegression\n",
    "from sklearn.model_selection import train_test_split\n",
    "from sklearn.linear_model import RidgeCV\n",
    "from sklearn.linear_model import LassoCV\n",
    "from sklearn.feature_selection import RFECV\n",
    "from sklearn.pipeline import make_pipeline\n",
    "from sklearn.preprocessing import PolynomialFeatures\n",
    "from sklearn.model_selection import KFold\n",
    "import statsmodels.api as sm\n",
    "import statsmodels.formula.api as smf\n",
    "import seaborn as sns\n",
    "from sklearn.metrics import mean_squared_error, mean_absolute_error\n",
    "import scipy.stats as stats\n",
    "from sklearn.linear_model import ElasticNetCV\n",
    "from sklearn.linear_model import LinearRegression\n",
    "from sklearn.preprocessing import StandardScaler"
   ]
  },
  {
   "cell_type": "code",
   "execution_count": 18,
   "metadata": {
    "collapsed": false
   },
   "outputs": [],
   "source": [
    "#sns.heatmap(dataset.corr())"
   ]
  },
  {
   "cell_type": "code",
   "execution_count": 19,
   "metadata": {
    "collapsed": false
   },
   "outputs": [],
   "source": [
    "subDataset = dataset.loc[:,['log_price','baths', 'bedrooms', 'commuteDistance', \n",
    "       'AdditionalStorage', 'AirConditioning', 'Alarm',\n",
    "       'Balcony', 'Balcony,Deck,orPatio',\n",
    "       'BikeRoom', 'CableReady', 'CatsAllowed', 'CentralAc', 'Concierge',\n",
    "       'ControlledAccess', 'Deck', 'Dishwasher', 'DogsAllowed',\n",
    "       'DoorAttendant', 'DoublePaneWindows', 'Elevator', 'FemalePopulation',\n",
    "       'FiosAvailable', 'FitnessCenter', 'FloorCovering:Hardwood',\n",
    "       'FullTimeDoorman', 'Garage', 'Garden', 'Granitecountertop',\n",
    "       'GuarantorOk', 'Guarantors', 'HardwoodFloors', 'Heatingincludedinrent',\n",
    "       'Hotwaterincludedinrent', 'Laundry', 'LiveInSuper', \n",
    "       \n",
    "        'MedianHouseholdIncome', 'MedianAge',\n",
    "                            \n",
    "        'Neighborhood[T.Bronx Park and Fordham]',\n",
    " 'Neighborhood[T.Bushwick and Williamsburg]',\n",
    " 'Neighborhood[T.Canarsie and Flatlands]',\n",
    " 'Neighborhood[T.Central Bronx]',\n",
    " 'Neighborhood[T.Central Brooklyn]',\n",
    " 'Neighborhood[T.Central Harlem]',\n",
    " 'Neighborhood[T.Central Queens]',\n",
    " 'Neighborhood[T.Chelsea and Clinton]',\n",
    " 'Neighborhood[T.East Harlem]',\n",
    " 'Neighborhood[T.East New York and New Lots]',\n",
    " 'Neighborhood[T.Flatbush]',\n",
    " 'Neighborhood[T.Gramercy Park and Murray Hill]',\n",
    " 'Neighborhood[T.Greenpoint]',\n",
    " 'Neighborhood[T.Greenwich Village and Soho]',\n",
    " 'Neighborhood[T.High Bridge and Morrisania]',\n",
    " 'Neighborhood[T.Hunts Point and Mott Haven]',\n",
    " 'Neighborhood[T.Inwood and Washington Heights]',\n",
    " 'Neighborhood[T.Jamaica]',\n",
    " 'Neighborhood[T.Kingsbridge and Riverdale]',\n",
    " 'Neighborhood[T.Lower East Side]',\n",
    " 'Neighborhood[T.Lower Manhattan]',\n",
    " 'Neighborhood[T.Mid-Island]',\n",
    " 'Neighborhood[T.North Queens]',\n",
    " 'Neighborhood[T.Northeast Bronx]',\n",
    " 'Neighborhood[T.Northeast Queens]',\n",
    " 'Neighborhood[T.Northwest Brooklyn]',\n",
    " 'Neighborhood[T.Northwest Queens]',\n",
    " 'Neighborhood[T.Port Richmond]',\n",
    " 'Neighborhood[T.Rockaways]',\n",
    " 'Neighborhood[T.South Shore]',\n",
    " 'Neighborhood[T.Southeast Bronx]',\n",
    " 'Neighborhood[T.Southeast Queens]',\n",
    " 'Neighborhood[T.Southern Brooklyn]',\n",
    " 'Neighborhood[T.Southwest Brooklyn]',\n",
    " 'Neighborhood[T.Southwest Queens]',\n",
    " 'Neighborhood[T.Stapleton and St. George]',\n",
    " 'Neighborhood[T.Sunset Park]',\n",
    " 'Neighborhood[T.Upper East Side]',\n",
    " 'Neighborhood[T.Upper West Side]',\n",
    " 'Neighborhood[T.West Central Queens]',\n",
    " 'Neighborhood[T.West Queens]'\n",
    "                           ]]\n",
    "X = subDataset[ [col for col in subDataset.columns if not 'price' in col]]\n",
    "y = dataset['log_price']"
   ]
  },
  {
   "cell_type": "code",
   "execution_count": null,
   "metadata": {
    "collapsed": false
   },
   "outputs": [],
   "source": []
  },
  {
   "cell_type": "code",
   "execution_count": 20,
   "metadata": {
    "collapsed": false
   },
   "outputs": [],
   "source": [
    "X_train_allCols, X_test_allCols, y_train, y_test = train_test_split(X, y, test_size=0.3)\n",
    "\n"
   ]
  },
  {
   "cell_type": "code",
   "execution_count": 23,
   "metadata": {
    "collapsed": false,
    "scrolled": true
   },
   "outputs": [
    {
     "data": {
      "text/html": [
       "<table class=\"simpletable\">\n",
       "<caption>OLS Regression Results</caption>\n",
       "<tr>\n",
       "  <th>Dep. Variable:</th>        <td>log_price</td>    <th>  R-squared:         </th> <td>   0.761</td>\n",
       "</tr>\n",
       "<tr>\n",
       "  <th>Model:</th>                   <td>OLS</td>       <th>  Adj. R-squared:    </th> <td>   0.761</td>\n",
       "</tr>\n",
       "<tr>\n",
       "  <th>Method:</th>             <td>Least Squares</td>  <th>  F-statistic:       </th> <td>   1570.</td>\n",
       "</tr>\n",
       "<tr>\n",
       "  <th>Date:</th>             <td>Tue, 25 Apr 2017</td> <th>  Prob (F-statistic):</th>  <td>  0.00</td> \n",
       "</tr>\n",
       "<tr>\n",
       "  <th>Time:</th>                 <td>23:10:21</td>     <th>  Log-Likelihood:    </th> <td> -1861.2</td>\n",
       "</tr>\n",
       "<tr>\n",
       "  <th>No. Observations:</th>      <td> 38462</td>      <th>  AIC:               </th> <td>   3880.</td>\n",
       "</tr>\n",
       "<tr>\n",
       "  <th>Df Residuals:</th>          <td> 38383</td>      <th>  BIC:               </th> <td>   4557.</td>\n",
       "</tr>\n",
       "<tr>\n",
       "  <th>Df Model:</th>              <td>    78</td>      <th>                     </th>     <td> </td>   \n",
       "</tr>\n",
       "<tr>\n",
       "  <th>Covariance Type:</th>      <td>nonrobust</td>    <th>                     </th>     <td> </td>   \n",
       "</tr>\n",
       "</table>\n",
       "<table class=\"simpletable\">\n",
       "<tr>\n",
       "                        <td></td>                           <th>coef</th>     <th>std err</th>      <th>t</th>      <th>P>|t|</th> <th>[95.0% Conf. Int.]</th> \n",
       "</tr>\n",
       "<tr>\n",
       "  <th>baths</th>                                         <td>    0.3028</td> <td>    0.003</td> <td>  101.323</td> <td> 0.000</td> <td>    0.297     0.309</td>\n",
       "</tr>\n",
       "<tr>\n",
       "  <th>bedrooms</th>                                      <td>    0.1450</td> <td>    0.002</td> <td>   94.642</td> <td> 0.000</td> <td>    0.142     0.148</td>\n",
       "</tr>\n",
       "<tr>\n",
       "  <th>commuteDistance</th>                               <td>   -0.0424</td> <td>    0.002</td> <td>  -24.727</td> <td> 0.000</td> <td>   -0.046    -0.039</td>\n",
       "</tr>\n",
       "<tr>\n",
       "  <th>AdditionalStorage</th>                             <td>    0.0018</td> <td>    0.011</td> <td>    0.159</td> <td> 0.874</td> <td>   -0.020     0.024</td>\n",
       "</tr>\n",
       "<tr>\n",
       "  <th>AirConditioning</th>                               <td>   -0.0826</td> <td>    0.009</td> <td>   -9.619</td> <td> 0.000</td> <td>   -0.099    -0.066</td>\n",
       "</tr>\n",
       "<tr>\n",
       "  <th>Alarm</th>                                         <td>   -0.0068</td> <td>    0.013</td> <td>   -0.513</td> <td> 0.608</td> <td>   -0.033     0.019</td>\n",
       "</tr>\n",
       "<tr>\n",
       "  <th>Balcony</th>                                       <td>    0.0016</td> <td>    0.006</td> <td>    0.266</td> <td> 0.790</td> <td>   -0.010     0.013</td>\n",
       "</tr>\n",
       "<tr>\n",
       "  <th>Balcony,Deck,orPatio</th>                          <td>   -0.0182</td> <td>    0.011</td> <td>   -1.599</td> <td> 0.110</td> <td>   -0.040     0.004</td>\n",
       "</tr>\n",
       "<tr>\n",
       "  <th>BikeRoom</th>                                      <td>   -0.0027</td> <td>    0.005</td> <td>   -0.487</td> <td> 0.627</td> <td>   -0.013     0.008</td>\n",
       "</tr>\n",
       "<tr>\n",
       "  <th>CableReady</th>                                    <td>   -0.0380</td> <td>    0.007</td> <td>   -5.161</td> <td> 0.000</td> <td>   -0.052    -0.024</td>\n",
       "</tr>\n",
       "<tr>\n",
       "  <th>CatsAllowed</th>                                   <td>   -0.0022</td> <td>    0.004</td> <td>   -0.514</td> <td> 0.607</td> <td>   -0.011     0.006</td>\n",
       "</tr>\n",
       "<tr>\n",
       "  <th>CentralAc</th>                                     <td>    0.1012</td> <td>    0.006</td> <td>   17.794</td> <td> 0.000</td> <td>    0.090     0.112</td>\n",
       "</tr>\n",
       "<tr>\n",
       "  <th>Concierge</th>                                     <td>    0.0777</td> <td>    0.007</td> <td>   11.950</td> <td> 0.000</td> <td>    0.065     0.090</td>\n",
       "</tr>\n",
       "<tr>\n",
       "  <th>ControlledAccess</th>                              <td>    0.0170</td> <td>    0.013</td> <td>    1.298</td> <td> 0.194</td> <td>   -0.009     0.043</td>\n",
       "</tr>\n",
       "<tr>\n",
       "  <th>Deck</th>                                          <td>   -0.0019</td> <td>    0.006</td> <td>   -0.331</td> <td> 0.741</td> <td>   -0.013     0.009</td>\n",
       "</tr>\n",
       "<tr>\n",
       "  <th>Dishwasher</th>                                    <td>    0.0586</td> <td>    0.003</td> <td>   18.126</td> <td> 0.000</td> <td>    0.052     0.065</td>\n",
       "</tr>\n",
       "<tr>\n",
       "  <th>DogsAllowed</th>                                   <td>    0.0209</td> <td>    0.004</td> <td>    5.094</td> <td> 0.000</td> <td>    0.013     0.029</td>\n",
       "</tr>\n",
       "<tr>\n",
       "  <th>DoorAttendant</th>                                 <td>    0.0743</td> <td>    0.006</td> <td>   12.464</td> <td> 0.000</td> <td>    0.063     0.086</td>\n",
       "</tr>\n",
       "<tr>\n",
       "  <th>DoublePaneWindows</th>                             <td>    0.0105</td> <td>    0.012</td> <td>    0.867</td> <td> 0.386</td> <td>   -0.013     0.034</td>\n",
       "</tr>\n",
       "<tr>\n",
       "  <th>Elevator</th>                                      <td>    0.0830</td> <td>    0.005</td> <td>   18.358</td> <td> 0.000</td> <td>    0.074     0.092</td>\n",
       "</tr>\n",
       "<tr>\n",
       "  <th>FemalePopulation</th>                              <td> 6.435e-07</td> <td> 1.94e-07</td> <td>    3.320</td> <td> 0.001</td> <td> 2.64e-07  1.02e-06</td>\n",
       "</tr>\n",
       "<tr>\n",
       "  <th>FiosAvailable</th>                                 <td>    0.0015</td> <td>    0.005</td> <td>    0.333</td> <td> 0.739</td> <td>   -0.007     0.011</td>\n",
       "</tr>\n",
       "<tr>\n",
       "  <th>FitnessCenter</th>                                 <td>    0.1370</td> <td>    0.005</td> <td>   25.082</td> <td> 0.000</td> <td>    0.126     0.148</td>\n",
       "</tr>\n",
       "<tr>\n",
       "  <th>FloorCovering:Hardwood</th>                        <td>   -0.0536</td> <td>    0.006</td> <td>   -8.447</td> <td> 0.000</td> <td>   -0.066    -0.041</td>\n",
       "</tr>\n",
       "<tr>\n",
       "  <th>FullTimeDoorman</th>                               <td>    0.0172</td> <td>    0.006</td> <td>    2.723</td> <td> 0.006</td> <td>    0.005     0.030</td>\n",
       "</tr>\n",
       "<tr>\n",
       "  <th>Garage</th>                                        <td>   -0.0450</td> <td>    0.006</td> <td>   -7.946</td> <td> 0.000</td> <td>   -0.056    -0.034</td>\n",
       "</tr>\n",
       "<tr>\n",
       "  <th>Garden</th>                                        <td>    0.0286</td> <td>    0.005</td> <td>    5.331</td> <td> 0.000</td> <td>    0.018     0.039</td>\n",
       "</tr>\n",
       "<tr>\n",
       "  <th>Granitecountertop</th>                             <td>    0.0028</td> <td>    0.009</td> <td>    0.306</td> <td> 0.759</td> <td>   -0.015     0.021</td>\n",
       "</tr>\n",
       "<tr>\n",
       "  <th>GuarantorOk</th>                                   <td>   -0.0257</td> <td>    0.004</td> <td>   -5.754</td> <td> 0.000</td> <td>   -0.034    -0.017</td>\n",
       "</tr>\n",
       "<tr>\n",
       "  <th>Guarantors</th>                                    <td>   -0.0409</td> <td>    0.005</td> <td>   -7.890</td> <td> 0.000</td> <td>   -0.051    -0.031</td>\n",
       "</tr>\n",
       "<tr>\n",
       "  <th>HardwoodFloors</th>                                <td>   -0.1467</td> <td>    0.009</td> <td>  -15.684</td> <td> 0.000</td> <td>   -0.165    -0.128</td>\n",
       "</tr>\n",
       "<tr>\n",
       "  <th>Heatingincludedinrent</th>                         <td>   -0.0616</td> <td>    0.006</td> <td>   -9.786</td> <td> 0.000</td> <td>   -0.074    -0.049</td>\n",
       "</tr>\n",
       "<tr>\n",
       "  <th>Hotwaterincludedinrent</th>                        <td>    0.0369</td> <td>    0.007</td> <td>    5.282</td> <td> 0.000</td> <td>    0.023     0.051</td>\n",
       "</tr>\n",
       "<tr>\n",
       "  <th>Laundry</th>                                       <td>   -0.0246</td> <td>    0.004</td> <td>   -6.087</td> <td> 0.000</td> <td>   -0.032    -0.017</td>\n",
       "</tr>\n",
       "<tr>\n",
       "  <th>LiveInSuper</th>                                   <td>   -0.0326</td> <td>    0.004</td> <td>   -7.876</td> <td> 0.000</td> <td>   -0.041    -0.024</td>\n",
       "</tr>\n",
       "<tr>\n",
       "  <th>MedianHouseholdIncome</th>                         <td> 2.416e-06</td> <td> 1.28e-07</td> <td>   18.853</td> <td> 0.000</td> <td> 2.16e-06  2.67e-06</td>\n",
       "</tr>\n",
       "<tr>\n",
       "  <th>MedianAge</th>                                     <td>    0.0050</td> <td>    0.001</td> <td>    7.366</td> <td> 0.000</td> <td>    0.004     0.006</td>\n",
       "</tr>\n",
       "<tr>\n",
       "  <th>Neighborhood[T.Bronx Park and Fordham]</th>        <td>   -0.0341</td> <td>    0.012</td> <td>   -2.815</td> <td> 0.005</td> <td>   -0.058    -0.010</td>\n",
       "</tr>\n",
       "<tr>\n",
       "  <th>Neighborhood[T.Bushwick and Williamsburg]</th>     <td>   -0.0545</td> <td>    0.013</td> <td>   -4.238</td> <td> 0.000</td> <td>   -0.080    -0.029</td>\n",
       "</tr>\n",
       "<tr>\n",
       "  <th>Neighborhood[T.Canarsie and Flatlands]</th>        <td>   -0.1397</td> <td>    0.017</td> <td>   -8.428</td> <td> 0.000</td> <td>   -0.172    -0.107</td>\n",
       "</tr>\n",
       "<tr>\n",
       "  <th>Neighborhood[T.Central Bronx]</th>                 <td>   -0.0856</td> <td>    0.014</td> <td>   -6.047</td> <td> 0.000</td> <td>   -0.113    -0.058</td>\n",
       "</tr>\n",
       "<tr>\n",
       "  <th>Neighborhood[T.Central Brooklyn]</th>              <td>   -0.0356</td> <td>    0.012</td> <td>   -3.027</td> <td> 0.002</td> <td>   -0.059    -0.013</td>\n",
       "</tr>\n",
       "<tr>\n",
       "  <th>Neighborhood[T.Central Harlem]</th>                <td>    0.0483</td> <td>    0.015</td> <td>    3.221</td> <td> 0.001</td> <td>    0.019     0.078</td>\n",
       "</tr>\n",
       "<tr>\n",
       "  <th>Neighborhood[T.Central Queens]</th>                <td>   -0.0016</td> <td>    0.015</td> <td>   -0.105</td> <td> 0.917</td> <td>   -0.031     0.028</td>\n",
       "</tr>\n",
       "<tr>\n",
       "  <th>Neighborhood[T.Chelsea and Clinton]</th>           <td>    0.1952</td> <td>    0.017</td> <td>   11.815</td> <td> 0.000</td> <td>    0.163     0.228</td>\n",
       "</tr>\n",
       "<tr>\n",
       "  <th>Neighborhood[T.East Harlem]</th>                   <td>    0.0882</td> <td>    0.018</td> <td>    4.853</td> <td> 0.000</td> <td>    0.053     0.124</td>\n",
       "</tr>\n",
       "<tr>\n",
       "  <th>Neighborhood[T.East New York and New Lots]</th>    <td>   -0.1346</td> <td>    0.016</td> <td>   -8.389</td> <td> 0.000</td> <td>   -0.166    -0.103</td>\n",
       "</tr>\n",
       "<tr>\n",
       "  <th>Neighborhood[T.Flatbush]</th>                      <td>   -0.0950</td> <td>    0.013</td> <td>   -7.447</td> <td> 0.000</td> <td>   -0.120    -0.070</td>\n",
       "</tr>\n",
       "<tr>\n",
       "  <th>Neighborhood[T.Gramercy Park and Murray Hill]</th> <td>    0.0407</td> <td>    0.018</td> <td>    2.309</td> <td> 0.021</td> <td>    0.006     0.075</td>\n",
       "</tr>\n",
       "<tr>\n",
       "  <th>Neighborhood[T.Greenpoint]</th>                    <td>    0.0802</td> <td>    0.015</td> <td>    5.285</td> <td> 0.000</td> <td>    0.050     0.110</td>\n",
       "</tr>\n",
       "<tr>\n",
       "  <th>Neighborhood[T.Greenwich Village and Soho]</th>    <td>    0.4062</td> <td>    0.017</td> <td>   23.764</td> <td> 0.000</td> <td>    0.373     0.440</td>\n",
       "</tr>\n",
       "<tr>\n",
       "  <th>Neighborhood[T.High Bridge and Morrisania]</th>    <td>   -0.1284</td> <td>    0.018</td> <td>   -7.269</td> <td> 0.000</td> <td>   -0.163    -0.094</td>\n",
       "</tr>\n",
       "<tr>\n",
       "  <th>Neighborhood[T.Hunts Point and Mott Haven]</th>    <td>   -0.1285</td> <td>    0.023</td> <td>   -5.566</td> <td> 0.000</td> <td>   -0.174    -0.083</td>\n",
       "</tr>\n",
       "<tr>\n",
       "  <th>Neighborhood[T.Inwood and Washington Heights]</th> <td>    0.0351</td> <td>    0.013</td> <td>    2.777</td> <td> 0.005</td> <td>    0.010     0.060</td>\n",
       "</tr>\n",
       "<tr>\n",
       "  <th>Neighborhood[T.Jamaica]</th>                       <td>   -0.0252</td> <td>    0.013</td> <td>   -1.920</td> <td> 0.055</td> <td>   -0.051     0.001</td>\n",
       "</tr>\n",
       "<tr>\n",
       "  <th>Neighborhood[T.Kingsbridge and Riverdale]</th>     <td>   -0.0052</td> <td>    0.023</td> <td>   -0.231</td> <td> 0.818</td> <td>   -0.050     0.039</td>\n",
       "</tr>\n",
       "<tr>\n",
       "  <th>Neighborhood[T.Lower East Side]</th>               <td>    0.2261</td> <td>    0.016</td> <td>   13.771</td> <td> 0.000</td> <td>    0.194     0.258</td>\n",
       "</tr>\n",
       "<tr>\n",
       "  <th>Neighborhood[T.Lower Manhattan]</th>               <td>    0.0942</td> <td>    0.018</td> <td>    5.204</td> <td> 0.000</td> <td>    0.059     0.130</td>\n",
       "</tr>\n",
       "<tr>\n",
       "  <th>Neighborhood[T.Mid-Island]</th>                    <td>   -0.1066</td> <td>    0.025</td> <td>   -4.202</td> <td> 0.000</td> <td>   -0.156    -0.057</td>\n",
       "</tr>\n",
       "<tr>\n",
       "  <th>Neighborhood[T.North Queens]</th>                  <td>   -0.0529</td> <td>    0.012</td> <td>   -4.255</td> <td> 0.000</td> <td>   -0.077    -0.029</td>\n",
       "</tr>\n",
       "<tr>\n",
       "  <th>Neighborhood[T.Northeast Bronx]</th>               <td>   -0.0833</td> <td>    0.016</td> <td>   -5.053</td> <td> 0.000</td> <td>   -0.116    -0.051</td>\n",
       "</tr>\n",
       "<tr>\n",
       "  <th>Neighborhood[T.Northeast Queens]</th>              <td>    0.0261</td> <td>    0.017</td> <td>    1.490</td> <td> 0.136</td> <td>   -0.008     0.060</td>\n",
       "</tr>\n",
       "<tr>\n",
       "  <th>Neighborhood[T.Northwest Brooklyn]</th>            <td>    0.1265</td> <td>    0.013</td> <td>    9.778</td> <td> 0.000</td> <td>    0.101     0.152</td>\n",
       "</tr>\n",
       "<tr>\n",
       "  <th>Neighborhood[T.Northwest Queens]</th>              <td>   -0.0908</td> <td>    0.013</td> <td>   -6.791</td> <td> 0.000</td> <td>   -0.117    -0.065</td>\n",
       "</tr>\n",
       "<tr>\n",
       "  <th>Neighborhood[T.Port Richmond]</th>                 <td>   -0.0584</td> <td>    0.034</td> <td>   -1.739</td> <td> 0.082</td> <td>   -0.124     0.007</td>\n",
       "</tr>\n",
       "<tr>\n",
       "  <th>Neighborhood[T.Rockaways]</th>                     <td>    0.2126</td> <td>    0.024</td> <td>    8.883</td> <td> 0.000</td> <td>    0.166     0.259</td>\n",
       "</tr>\n",
       "<tr>\n",
       "  <th>Neighborhood[T.South Shore]</th>                   <td>   -0.0104</td> <td>    0.023</td> <td>   -0.444</td> <td> 0.657</td> <td>   -0.056     0.036</td>\n",
       "</tr>\n",
       "<tr>\n",
       "  <th>Neighborhood[T.Southeast Bronx]</th>               <td>   -0.0969</td> <td>    0.012</td> <td>   -8.264</td> <td> 0.000</td> <td>   -0.120    -0.074</td>\n",
       "</tr>\n",
       "<tr>\n",
       "  <th>Neighborhood[T.Southeast Queens]</th>              <td>    0.0409</td> <td>    0.022</td> <td>    1.861</td> <td> 0.063</td> <td>   -0.002     0.084</td>\n",
       "</tr>\n",
       "<tr>\n",
       "  <th>Neighborhood[T.Southern Brooklyn]</th>             <td>    0.0441</td> <td>    0.013</td> <td>    3.484</td> <td> 0.000</td> <td>    0.019     0.069</td>\n",
       "</tr>\n",
       "<tr>\n",
       "  <th>Neighborhood[T.Southwest Brooklyn]</th>            <td>   -0.0028</td> <td>    0.012</td> <td>   -0.228</td> <td> 0.820</td> <td>   -0.027     0.021</td>\n",
       "</tr>\n",
       "<tr>\n",
       "  <th>Neighborhood[T.Southwest Queens]</th>              <td>   -0.0760</td> <td>    0.014</td> <td>   -5.329</td> <td> 0.000</td> <td>   -0.104    -0.048</td>\n",
       "</tr>\n",
       "<tr>\n",
       "  <th>Neighborhood[T.Stapleton and St. George]</th>      <td>   -0.0519</td> <td>    0.018</td> <td>   -2.820</td> <td> 0.005</td> <td>   -0.088    -0.016</td>\n",
       "</tr>\n",
       "<tr>\n",
       "  <th>Neighborhood[T.Sunset Park]</th>                   <td>   -0.0232</td> <td>    0.020</td> <td>   -1.137</td> <td> 0.256</td> <td>   -0.063     0.017</td>\n",
       "</tr>\n",
       "<tr>\n",
       "  <th>Neighborhood[T.Upper East Side]</th>               <td>    0.0837</td> <td>    0.016</td> <td>    5.177</td> <td> 0.000</td> <td>    0.052     0.115</td>\n",
       "</tr>\n",
       "<tr>\n",
       "  <th>Neighborhood[T.Upper West Side]</th>               <td>    0.0897</td> <td>    0.016</td> <td>    5.512</td> <td> 0.000</td> <td>    0.058     0.122</td>\n",
       "</tr>\n",
       "<tr>\n",
       "  <th>Neighborhood[T.West Central Queens]</th>           <td>   -0.1272</td> <td>    0.012</td> <td>  -10.793</td> <td> 0.000</td> <td>   -0.150    -0.104</td>\n",
       "</tr>\n",
       "<tr>\n",
       "  <th>Neighborhood[T.West Queens]</th>                   <td>   -0.1452</td> <td>    0.013</td> <td>  -11.218</td> <td> 0.000</td> <td>   -0.171    -0.120</td>\n",
       "</tr>\n",
       "<tr>\n",
       "  <th>intercept</th>                                     <td>    7.0637</td> <td>    0.026</td> <td>  268.623</td> <td> 0.000</td> <td>    7.012     7.115</td>\n",
       "</tr>\n",
       "</table>\n",
       "<table class=\"simpletable\">\n",
       "<tr>\n",
       "  <th>Omnibus:</th>       <td>14720.413</td> <th>  Durbin-Watson:     </th>  <td>   2.005</td> \n",
       "</tr>\n",
       "<tr>\n",
       "  <th>Prob(Omnibus):</th>  <td> 0.000</td>   <th>  Jarque-Bera (JB):  </th> <td>542030.751</td>\n",
       "</tr>\n",
       "<tr>\n",
       "  <th>Skew:</th>           <td> 1.171</td>   <th>  Prob(JB):          </th>  <td>    0.00</td> \n",
       "</tr>\n",
       "<tr>\n",
       "  <th>Kurtosis:</th>       <td>21.241</td>   <th>  Cond. No.          </th>  <td>3.41e+06</td> \n",
       "</tr>\n",
       "</table>"
      ],
      "text/plain": [
       "<class 'statsmodels.iolib.summary.Summary'>\n",
       "\"\"\"\n",
       "                            OLS Regression Results                            \n",
       "==============================================================================\n",
       "Dep. Variable:              log_price   R-squared:                       0.761\n",
       "Model:                            OLS   Adj. R-squared:                  0.761\n",
       "Method:                 Least Squares   F-statistic:                     1570.\n",
       "Date:                Tue, 25 Apr 2017   Prob (F-statistic):               0.00\n",
       "Time:                        23:10:21   Log-Likelihood:                -1861.2\n",
       "No. Observations:               38462   AIC:                             3880.\n",
       "Df Residuals:                   38383   BIC:                             4557.\n",
       "Df Model:                          78                                         \n",
       "Covariance Type:            nonrobust                                         \n",
       "=================================================================================================================\n",
       "                                                    coef    std err          t      P>|t|      [95.0% Conf. Int.]\n",
       "-----------------------------------------------------------------------------------------------------------------\n",
       "baths                                             0.3028      0.003    101.323      0.000         0.297     0.309\n",
       "bedrooms                                          0.1450      0.002     94.642      0.000         0.142     0.148\n",
       "commuteDistance                                  -0.0424      0.002    -24.727      0.000        -0.046    -0.039\n",
       "AdditionalStorage                                 0.0018      0.011      0.159      0.874        -0.020     0.024\n",
       "AirConditioning                                  -0.0826      0.009     -9.619      0.000        -0.099    -0.066\n",
       "Alarm                                            -0.0068      0.013     -0.513      0.608        -0.033     0.019\n",
       "Balcony                                           0.0016      0.006      0.266      0.790        -0.010     0.013\n",
       "Balcony,Deck,orPatio                             -0.0182      0.011     -1.599      0.110        -0.040     0.004\n",
       "BikeRoom                                         -0.0027      0.005     -0.487      0.627        -0.013     0.008\n",
       "CableReady                                       -0.0380      0.007     -5.161      0.000        -0.052    -0.024\n",
       "CatsAllowed                                      -0.0022      0.004     -0.514      0.607        -0.011     0.006\n",
       "CentralAc                                         0.1012      0.006     17.794      0.000         0.090     0.112\n",
       "Concierge                                         0.0777      0.007     11.950      0.000         0.065     0.090\n",
       "ControlledAccess                                  0.0170      0.013      1.298      0.194        -0.009     0.043\n",
       "Deck                                             -0.0019      0.006     -0.331      0.741        -0.013     0.009\n",
       "Dishwasher                                        0.0586      0.003     18.126      0.000         0.052     0.065\n",
       "DogsAllowed                                       0.0209      0.004      5.094      0.000         0.013     0.029\n",
       "DoorAttendant                                     0.0743      0.006     12.464      0.000         0.063     0.086\n",
       "DoublePaneWindows                                 0.0105      0.012      0.867      0.386        -0.013     0.034\n",
       "Elevator                                          0.0830      0.005     18.358      0.000         0.074     0.092\n",
       "FemalePopulation                               6.435e-07   1.94e-07      3.320      0.001      2.64e-07  1.02e-06\n",
       "FiosAvailable                                     0.0015      0.005      0.333      0.739        -0.007     0.011\n",
       "FitnessCenter                                     0.1370      0.005     25.082      0.000         0.126     0.148\n",
       "FloorCovering:Hardwood                           -0.0536      0.006     -8.447      0.000        -0.066    -0.041\n",
       "FullTimeDoorman                                   0.0172      0.006      2.723      0.006         0.005     0.030\n",
       "Garage                                           -0.0450      0.006     -7.946      0.000        -0.056    -0.034\n",
       "Garden                                            0.0286      0.005      5.331      0.000         0.018     0.039\n",
       "Granitecountertop                                 0.0028      0.009      0.306      0.759        -0.015     0.021\n",
       "GuarantorOk                                      -0.0257      0.004     -5.754      0.000        -0.034    -0.017\n",
       "Guarantors                                       -0.0409      0.005     -7.890      0.000        -0.051    -0.031\n",
       "HardwoodFloors                                   -0.1467      0.009    -15.684      0.000        -0.165    -0.128\n",
       "Heatingincludedinrent                            -0.0616      0.006     -9.786      0.000        -0.074    -0.049\n",
       "Hotwaterincludedinrent                            0.0369      0.007      5.282      0.000         0.023     0.051\n",
       "Laundry                                          -0.0246      0.004     -6.087      0.000        -0.032    -0.017\n",
       "LiveInSuper                                      -0.0326      0.004     -7.876      0.000        -0.041    -0.024\n",
       "MedianHouseholdIncome                          2.416e-06   1.28e-07     18.853      0.000      2.16e-06  2.67e-06\n",
       "MedianAge                                         0.0050      0.001      7.366      0.000         0.004     0.006\n",
       "Neighborhood[T.Bronx Park and Fordham]           -0.0341      0.012     -2.815      0.005        -0.058    -0.010\n",
       "Neighborhood[T.Bushwick and Williamsburg]        -0.0545      0.013     -4.238      0.000        -0.080    -0.029\n",
       "Neighborhood[T.Canarsie and Flatlands]           -0.1397      0.017     -8.428      0.000        -0.172    -0.107\n",
       "Neighborhood[T.Central Bronx]                    -0.0856      0.014     -6.047      0.000        -0.113    -0.058\n",
       "Neighborhood[T.Central Brooklyn]                 -0.0356      0.012     -3.027      0.002        -0.059    -0.013\n",
       "Neighborhood[T.Central Harlem]                    0.0483      0.015      3.221      0.001         0.019     0.078\n",
       "Neighborhood[T.Central Queens]                   -0.0016      0.015     -0.105      0.917        -0.031     0.028\n",
       "Neighborhood[T.Chelsea and Clinton]               0.1952      0.017     11.815      0.000         0.163     0.228\n",
       "Neighborhood[T.East Harlem]                       0.0882      0.018      4.853      0.000         0.053     0.124\n",
       "Neighborhood[T.East New York and New Lots]       -0.1346      0.016     -8.389      0.000        -0.166    -0.103\n",
       "Neighborhood[T.Flatbush]                         -0.0950      0.013     -7.447      0.000        -0.120    -0.070\n",
       "Neighborhood[T.Gramercy Park and Murray Hill]     0.0407      0.018      2.309      0.021         0.006     0.075\n",
       "Neighborhood[T.Greenpoint]                        0.0802      0.015      5.285      0.000         0.050     0.110\n",
       "Neighborhood[T.Greenwich Village and Soho]        0.4062      0.017     23.764      0.000         0.373     0.440\n",
       "Neighborhood[T.High Bridge and Morrisania]       -0.1284      0.018     -7.269      0.000        -0.163    -0.094\n",
       "Neighborhood[T.Hunts Point and Mott Haven]       -0.1285      0.023     -5.566      0.000        -0.174    -0.083\n",
       "Neighborhood[T.Inwood and Washington Heights]     0.0351      0.013      2.777      0.005         0.010     0.060\n",
       "Neighborhood[T.Jamaica]                          -0.0252      0.013     -1.920      0.055        -0.051     0.001\n",
       "Neighborhood[T.Kingsbridge and Riverdale]        -0.0052      0.023     -0.231      0.818        -0.050     0.039\n",
       "Neighborhood[T.Lower East Side]                   0.2261      0.016     13.771      0.000         0.194     0.258\n",
       "Neighborhood[T.Lower Manhattan]                   0.0942      0.018      5.204      0.000         0.059     0.130\n",
       "Neighborhood[T.Mid-Island]                       -0.1066      0.025     -4.202      0.000        -0.156    -0.057\n",
       "Neighborhood[T.North Queens]                     -0.0529      0.012     -4.255      0.000        -0.077    -0.029\n",
       "Neighborhood[T.Northeast Bronx]                  -0.0833      0.016     -5.053      0.000        -0.116    -0.051\n",
       "Neighborhood[T.Northeast Queens]                  0.0261      0.017      1.490      0.136        -0.008     0.060\n",
       "Neighborhood[T.Northwest Brooklyn]                0.1265      0.013      9.778      0.000         0.101     0.152\n",
       "Neighborhood[T.Northwest Queens]                 -0.0908      0.013     -6.791      0.000        -0.117    -0.065\n",
       "Neighborhood[T.Port Richmond]                    -0.0584      0.034     -1.739      0.082        -0.124     0.007\n",
       "Neighborhood[T.Rockaways]                         0.2126      0.024      8.883      0.000         0.166     0.259\n",
       "Neighborhood[T.South Shore]                      -0.0104      0.023     -0.444      0.657        -0.056     0.036\n",
       "Neighborhood[T.Southeast Bronx]                  -0.0969      0.012     -8.264      0.000        -0.120    -0.074\n",
       "Neighborhood[T.Southeast Queens]                  0.0409      0.022      1.861      0.063        -0.002     0.084\n",
       "Neighborhood[T.Southern Brooklyn]                 0.0441      0.013      3.484      0.000         0.019     0.069\n",
       "Neighborhood[T.Southwest Brooklyn]               -0.0028      0.012     -0.228      0.820        -0.027     0.021\n",
       "Neighborhood[T.Southwest Queens]                 -0.0760      0.014     -5.329      0.000        -0.104    -0.048\n",
       "Neighborhood[T.Stapleton and St. George]         -0.0519      0.018     -2.820      0.005        -0.088    -0.016\n",
       "Neighborhood[T.Sunset Park]                      -0.0232      0.020     -1.137      0.256        -0.063     0.017\n",
       "Neighborhood[T.Upper East Side]                   0.0837      0.016      5.177      0.000         0.052     0.115\n",
       "Neighborhood[T.Upper West Side]                   0.0897      0.016      5.512      0.000         0.058     0.122\n",
       "Neighborhood[T.West Central Queens]              -0.1272      0.012    -10.793      0.000        -0.150    -0.104\n",
       "Neighborhood[T.West Queens]                      -0.1452      0.013    -11.218      0.000        -0.171    -0.120\n",
       "intercept                                         7.0637      0.026    268.623      0.000         7.012     7.115\n",
       "==============================================================================\n",
       "Omnibus:                    14720.413   Durbin-Watson:                   2.005\n",
       "Prob(Omnibus):                  0.000   Jarque-Bera (JB):           542030.751\n",
       "Skew:                           1.171   Prob(JB):                         0.00\n",
       "Kurtosis:                      21.241   Cond. No.                     3.41e+06\n",
       "==============================================================================\n",
       "\n",
       "Warnings:\n",
       "[1] Standard Errors assume that the covariance matrix of the errors is correctly specified.\n",
       "[2] The condition number is large, 3.41e+06. This might indicate that there are\n",
       "strong multicollinearity or other numerical problems.\n",
       "\"\"\""
      ]
     },
     "execution_count": 23,
     "metadata": {},
     "output_type": "execute_result"
    }
   ],
   "source": [
    "X_train_sm0 = X_train_allCols.copy()\n",
    "X_train_sm0['intercept'] = 1\n",
    "\n",
    "X_test_sm0 = X_test_allCols.copy()\n",
    "X_test_sm0['intercept'] = 1\n",
    "\n",
    "# Create your model\n",
    "model = sm.OLS(y_train, X_train_sm0)\n",
    "\n",
    "# Fit your model to your training set\n",
    "fit = model.fit()\n",
    "\n",
    "# Print summary statistics of the model's performance\n",
    "fit.summary()"
   ]
  },
  {
   "cell_type": "code",
   "execution_count": null,
   "metadata": {
    "collapsed": false
   },
   "outputs": [],
   "source": [
    "\n",
    "# Allow x to have multiple columns\n",
    "def diagnostic_plot(X_train,y_train,X_test,y_test, rgr):\n",
    "    plt.figure(figsize=(15,10\n",
    "                       ))\n",
    "    scaler = StandardScaler()\n",
    "    xcols = X_train.columns\n",
    "    X_train = pd.DataFrame(scaler.fit_transform(X_train))\n",
    "    X_train.columns = xcols\n",
    "\n",
    "    X_test = pd.DataFrame(scaler.transform(X_test))\n",
    "    X_test.columns = xcols\n",
    "    \n",
    "    #rgr = LinearRegression()\n",
    "    #if len(x.shape) == 1:\n",
    "    #    x = x[:,None]\n",
    "    rgr.fit(X_train,y_train)\n",
    "    \n",
    "    # Print out the R^2 for the traing dataset\n",
    "    print('Training set R2: ' + str(rgr.score(X_train,y_train)))\n",
    "\n",
    "    # Print out the R^2 for the test dataset\n",
    "    print('Test set R2: ' + str(rgr.score(X_test,y_test)))\n",
    "    \n",
    "    X = X_test.append(X_train)\n",
    "    y = y_test.append(y_train)\n",
    "    # Print out the R^2 for the complete dataset\n",
    "    print('Complete Dataset R2: ' + str(rgr.score(X,y)))\n",
    "    \n",
    "    pred_train = rgr.predict(X_train)\n",
    "\n",
    "    plt.subplot(2, 3, 1)\n",
    "    #plt.scatter(x[:,0],y)\n",
    "    sns.regplot(y_train, pred_train, color='red')\n",
    "#    plt.plot(x[:,0], pred, color='blue',linewidth=1)\n",
    "    plt.title(\"Regression fit - Train\")\n",
    "    plt.xlabel(\"Actual Price\")\n",
    "    plt.ylabel(\"Predicted Price\")\n",
    "    \n",
    "    plt.subplot(2, 3, 2)\n",
    "    res_train = y_train - pred_train\n",
    "    sns.regplot(y_train, res_train)\n",
    "    plt.title(\"Residual plot - Train\")\n",
    "    plt.xlabel(\"Actual price\")\n",
    "    plt.ylabel(\"residuals\")\n",
    "    \n",
    "    plt.subplot(2, 3, 3)\n",
    "    #Generates a probability plot of sample data against the quantiles of a \n",
    "    # specified theoretical distribution \n",
    "    stats.probplot(res_train, dist=\"norm\", plot=plt)\n",
    "    plt.title(\"Normal Q-Q plot - Train\")\n",
    "    \n",
    "    \n",
    "    pred_test = rgr.predict(X_test)\n",
    "\n",
    "    plt.subplot(2, 3, 4)\n",
    "    #plt.scatter(x[:,0],y)\n",
    "    sns.regplot(y_test, pred_test, color='red')\n",
    "#    plt.plot(x[:,0], pred, color='blue',linewidth=1)\n",
    "    plt.title(\"Regression fit - Test\")\n",
    "    plt.xlabel(\"Actual Price\")\n",
    "    plt.ylabel(\"Predicted Price\")\n",
    "    \n",
    "    plt.subplot(2, 3, 5)\n",
    "    res_test = y_test - pred_test\n",
    "    sns.regplot(y_test, res_test)\n",
    "    plt.title(\"Residual plot - Test\")\n",
    "    plt.xlabel(\"Actual price\")\n",
    "    plt.ylabel(\"residuals\")\n",
    "    \n",
    "    plt.subplot(2, 3, 6)\n",
    "    #Generates a probability plot of sample data against the quantiles of a \n",
    "    # specified theoretical distribution \n",
    "    stats.probplot(res_test, dist=\"norm\", plot=plt)\n",
    "    plt.title(\"Normal Q-Q plot - Test\")\n",
    "    #print(rgr.score(X_test,y_test))\n",
    "    \n",
    "    #pred = rgr.predict(X)\n",
    "    \n",
    "#     plt.subplot(3, 3, 7)\n",
    "#     #plt.scatter(x[:,0],y)\n",
    "#     sns.regplot(y, pred, color='red')\n",
    "# #    plt.plot(x[:,0], pred, color='blue',linewidth=1)\n",
    "#     plt.title(\"Regression fit - Complete Set\")\n",
    "#     plt.xlabel(\"Actual Price\")\n",
    "#     plt.ylabel(\"Predicted Price\")\n",
    "    \n",
    "#     plt.subplot(3, 3, 8)\n",
    "#     res = y- pred\n",
    "#     sns.regplot(y, res)\n",
    "#     plt.title(\"Residual plot - Complete Set\")\n",
    "#     plt.xlabel(\"Actual price\")\n",
    "#     plt.ylabel(\"residuals\")\n",
    "    \n",
    "#     plt.subplot(3, 3, 9)\n",
    "#     #Generates a probability plot of sample data against the quantiles of a \n",
    "#     # specified theoretical distribution \n",
    "#     stats.probplot(res, dist=\"norm\", plot=plt)\n",
    "#     plt.title(\"Normal Q-Q plot - Complete Set\")\n",
    "\n",
    "    return(rgr)"
   ]
  },
  {
   "cell_type": "code",
   "execution_count": null,
   "metadata": {
    "collapsed": false
   },
   "outputs": [],
   "source": [
    "\n",
    "def runModel(model, X_train, X_test, y_train, y_test):\n",
    "    model = LinearRegression()\n",
    "\n",
    "    # Fit the model\n",
    "    model.fit(X_train, y_train)\n",
    "\n",
    "\n",
    "    \n",
    "    diagnostic_plot(X_train,y_train,X_test,y_test, model)"
   ]
  },
  {
   "cell_type": "markdown",
   "metadata": {},
   "source": [
    "#### baths, bedrooms, commuteDistance####"
   ]
  },
  {
   "cell_type": "code",
   "execution_count": null,
   "metadata": {
    "collapsed": true
   },
   "outputs": [],
   "source": [
    "cols = ['baths', 'bedrooms', 'commuteDistance'#,\n",
    "#        'AdditionalStorage', 'AirConditioning', 'Alarm',\n",
    "#        'Balcony', 'Balcony,Deck,orPatio',\n",
    "#        'BikeRoom', 'CableReady', 'CatsAllowed', 'CentralAc', 'Concierge',\n",
    "#        'ControlledAccess', 'Deck', 'Dishwasher', 'DogsAllowed',\n",
    "#        'DoorAttendant', 'DoublePaneWindows', 'Elevator', 'FemalePopulation',\n",
    "#        'FiosAvailable', 'FitnessCenter', 'FloorCovering:Hardwood',\n",
    "#        'FullTimeDoorman', 'Garage', 'Garden', 'Granitecountertop',\n",
    "#        'GuarantorOk', 'Guarantors', 'HardwoodFloors', 'Heatingincludedinrent',\n",
    "#        'Hotwaterincludedinrent', 'Laundry', 'LiveInSuper', \n",
    "       \n",
    "        #'MedianHouseholdIncome', \n",
    "        #'MedianAge'\n",
    "]\n",
    "                           \n",
    "\n",
    "X_train1 = X_train_allCols.loc[:, cols]\n",
    "X_test1 = X_test_allCols.loc[:, cols]\n",
    "\n",
    "X_train_sm1 = X_train1.copy()\n",
    "X_train_sm1['intercept'] = 1\n",
    "\n",
    "X_test_sm1 = X_test1.copy()\n",
    "X_test_sm1['intercept'] = 1"
   ]
  },
  {
   "cell_type": "code",
   "execution_count": null,
   "metadata": {
    "collapsed": false,
    "scrolled": true
   },
   "outputs": [],
   "source": [
    "rgrLR = diagnostic_plot(X_train1,y_train,X_test1,y_test, LinearRegression(normalize=True))"
   ]
  },
  {
   "cell_type": "code",
   "execution_count": null,
   "metadata": {
    "collapsed": true
   },
   "outputs": [],
   "source": [
    "# rgrRFE = diagnostic_plot(X_train1, y_train, X_test1,y_test, RFECV(LinearRegression(),cv=5))"
   ]
  },
  {
   "cell_type": "code",
   "execution_count": null,
   "metadata": {
    "collapsed": false
   },
   "outputs": [],
   "source": [
    "rgrRFE = diagnostic_plot(X_train1, y_train, X_test1,y_test, RidgeCV(cv=5, normalize=True, alphas=[0.1, 1.0, 10.0]))"
   ]
  },
  {
   "cell_type": "code",
   "execution_count": null,
   "metadata": {
    "collapsed": false
   },
   "outputs": [],
   "source": [
    "rgrRFE = diagnostic_plot(X_train1, y_train, X_test1,y_test, ElasticNetCV(cv=5, normalize=True))"
   ]
  },
  {
   "cell_type": "code",
   "execution_count": null,
   "metadata": {
    "collapsed": false
   },
   "outputs": [],
   "source": [
    "rgrRFE = diagnostic_plot(X_train1, y_train, X_test1,y_test, RFECV(LinearRegression(normalize=True),cv=5))"
   ]
  },
  {
   "cell_type": "markdown",
   "metadata": {},
   "source": [
    "#### Add Median Age, Median Household Income####"
   ]
  },
  {
   "cell_type": "code",
   "execution_count": null,
   "metadata": {
    "collapsed": true
   },
   "outputs": [],
   "source": [
    "cols = ['baths', 'bedrooms', 'commuteDistance',\n",
    "#        'AdditionalStorage', 'AirConditioning', 'Alarm',\n",
    "#        'Balcony', 'Balcony,Deck,orPatio',\n",
    "#        'BikeRoom', 'CableReady', 'CatsAllowed', 'CentralAc', 'Concierge',\n",
    "#        'ControlledAccess', 'Deck', 'Dishwasher', 'DogsAllowed',\n",
    "#        'DoorAttendant', 'DoublePaneWindows', 'Elevator', 'FemalePopulation',\n",
    "#        'FiosAvailable', 'FitnessCenter', 'FloorCovering:Hardwood',\n",
    "#        'FullTimeDoorman', 'Garage', 'Garden', 'Granitecountertop',\n",
    "#        'GuarantorOk', 'Guarantors', 'HardwoodFloors', 'Heatingincludedinrent',\n",
    "#        'Hotwaterincludedinrent', 'Laundry', 'LiveInSuper', \n",
    "       \n",
    "        'MedianHouseholdIncome'#, \n",
    "        #'MedianAge'\n",
    "]\n",
    "                           \n",
    "\n",
    "X_train = X_train_allCols.loc[:, cols]\n",
    "X_test = X_test_allCols.loc[:, cols]\n",
    "\n",
    "X_train_sm = X_train.copy()\n",
    "X_train_sm['intercept'] = 1\n",
    "\n",
    "X_test_sm = X_test.copy()\n",
    "X_test_sm['intercept'] = 1"
   ]
  },
  {
   "cell_type": "code",
   "execution_count": null,
   "metadata": {
    "collapsed": false
   },
   "outputs": [],
   "source": [
    "rgrRFE = diagnostic_plot(X_train, y_train, X_test,y_test, ElasticNetCV(cv=5, normalize=True))\n"
   ]
  },
  {
   "cell_type": "code",
   "execution_count": null,
   "metadata": {
    "collapsed": false
   },
   "outputs": [],
   "source": [
    "cols = ['baths', 'bedrooms', 'commuteDistance',\n",
    "#        'AdditionalStorage', 'AirConditioning', 'Alarm',\n",
    "#        'Balcony', 'Balcony,Deck,orPatio',\n",
    "#        'BikeRoom', 'CableReady', 'CatsAllowed', 'CentralAc', 'Concierge',\n",
    "#        'ControlledAccess', 'Deck', 'Dishwasher', 'DogsAllowed',\n",
    "#        'DoorAttendant', 'DoublePaneWindows', 'Elevator', 'FemalePopulation',\n",
    "#        'FiosAvailable', 'FitnessCenter', 'FloorCovering:Hardwood',\n",
    "#        'FullTimeDoorman', 'Garage', 'Garden', 'Granitecountertop',\n",
    "#        'GuarantorOk', 'Guarantors', 'HardwoodFloors', 'Heatingincludedinrent',\n",
    "#        'Hotwaterincludedinrent', 'Laundry', 'LiveInSuper', \n",
    "       \n",
    "        'MedianHouseholdIncome', \n",
    "        'MedianAge'\n",
    "]\n",
    "                           \n",
    "\n",
    "X_train = X_train_allCols.loc[:, cols]\n",
    "X_test = X_test_allCols.loc[:, cols]\n",
    "\n",
    "X_train_sm = X_train.copy()\n",
    "X_train_sm['intercept'] = 1\n",
    "\n",
    "X_test_sm = X_test.copy()\n",
    "X_test_sm['intercept'] = 1\n",
    "\n",
    "rgrRFE = diagnostic_plot(X_train, y_train, X_test,y_test, RidgeCV(normalize=True,cv=5))"
   ]
  },
  {
   "cell_type": "code",
   "execution_count": null,
   "metadata": {
    "collapsed": false
   },
   "outputs": [],
   "source": [
    "cols = ['baths', 'bedrooms', 'commuteDistance',\n",
    "       'AdditionalStorage', 'AirConditioning', 'Alarm',\n",
    "       'Balcony', 'Balcony,Deck,orPatio',\n",
    "       'BikeRoom', 'CableReady', 'CatsAllowed', 'CentralAc', 'Concierge',\n",
    "       'ControlledAccess', 'Deck', 'Dishwasher', 'DogsAllowed',\n",
    "       'DoorAttendant', 'DoublePaneWindows', 'Elevator',\n",
    "       'FiosAvailable', 'FitnessCenter', 'FloorCovering:Hardwood',\n",
    "       'FullTimeDoorman', 'Garage', 'Garden', 'Granitecountertop',\n",
    "       'GuarantorOk', 'Guarantors', 'HardwoodFloors', 'Heatingincludedinrent',\n",
    "       'Hotwaterincludedinrent', 'Laundry', 'LiveInSuper', \n",
    "       \n",
    "        'MedianHouseholdIncome', \n",
    "        'MedianAge'\n",
    "]\n",
    "\n",
    "X_train = X_train_allCols.loc[:, cols]\n",
    "X_test = X_test_allCols.loc[:, cols]\n",
    "\n",
    "X_train_sm = X_train.copy()\n",
    "X_train_sm['intercept'] = 1\n",
    "\n",
    "X_test_sm = X_test.copy()\n",
    "X_test_sm['intercept'] = 1\n",
    "\n",
    "rgrRFE = diagnostic_plot(X_train, y_train, X_test,y_test, RidgeCV(normalize=True,cv=5))"
   ]
  },
  {
   "cell_type": "code",
   "execution_count": null,
   "metadata": {
    "collapsed": false
   },
   "outputs": [],
   "source": [
    "from sklearn.preprocessing import normalize\n",
    "\n",
    "tempDf = pd.DataFrame(normalize(X_train_sm))\n",
    "tempDf.columns = X_train_sm.columns\n",
    "\n",
    "model = sm.OLS(y_train, X_train_sm)\n",
    "\n",
    "# Fit your model to your training set\n",
    "fit = model.fit()\n",
    "\n",
    "# Print summary statistics of the model's performance\n",
    "print(fit.summary())\n",
    "\n",
    "pd.DataFrame(fit.params).sort_values(0,ascending=False)"
   ]
  },
  {
   "cell_type": "code",
   "execution_count": null,
   "metadata": {
    "collapsed": false
   },
   "outputs": [],
   "source": [
    "cols = ['baths', 'bedrooms', 'commuteDistance',\n",
    "       'AdditionalStorage', 'AirConditioning', 'Alarm',\n",
    "       'Balcony', 'Balcony,Deck,orPatio',\n",
    "       'BikeRoom', 'CableReady', 'CatsAllowed', 'CentralAc', 'Concierge',\n",
    "       'ControlledAccess', 'Deck', 'Dishwasher', 'DogsAllowed',\n",
    "       'DoorAttendant', 'DoublePaneWindows', 'Elevator',\n",
    "       'FiosAvailable', 'FitnessCenter', 'FloorCovering:Hardwood',\n",
    "       'FullTimeDoorman', 'Garage', 'Garden', 'Granitecountertop',\n",
    "       'GuarantorOk', 'Guarantors', 'HardwoodFloors', 'Heatingincludedinrent',\n",
    "       'Hotwaterincludedinrent', 'Laundry', 'LiveInSuper', \n",
    "       \n",
    "        'MedianHouseholdIncome', \n",
    "        'MedianAge',\n",
    "        \n",
    "'Neighborhood[T.Bronx Park and Fordham]',\n",
    " 'Neighborhood[T.Bushwick and Williamsburg]',\n",
    " 'Neighborhood[T.Canarsie and Flatlands]',\n",
    " 'Neighborhood[T.Central Bronx]',\n",
    " 'Neighborhood[T.Central Brooklyn]',\n",
    " 'Neighborhood[T.Central Harlem]',\n",
    " 'Neighborhood[T.Central Queens]',\n",
    " 'Neighborhood[T.Chelsea and Clinton]',\n",
    " 'Neighborhood[T.East Harlem]',\n",
    " 'Neighborhood[T.East New York and New Lots]',\n",
    " 'Neighborhood[T.Flatbush]',\n",
    " 'Neighborhood[T.Gramercy Park and Murray Hill]',\n",
    " 'Neighborhood[T.Greenpoint]',\n",
    " 'Neighborhood[T.Greenwich Village and Soho]',\n",
    " 'Neighborhood[T.High Bridge and Morrisania]',\n",
    " 'Neighborhood[T.Hunts Point and Mott Haven]',\n",
    " 'Neighborhood[T.Inwood and Washington Heights]',\n",
    " 'Neighborhood[T.Jamaica]',\n",
    " 'Neighborhood[T.Kingsbridge and Riverdale]',\n",
    " 'Neighborhood[T.Lower East Side]',\n",
    " 'Neighborhood[T.Lower Manhattan]',\n",
    " 'Neighborhood[T.Mid-Island]',\n",
    " 'Neighborhood[T.North Queens]',\n",
    " 'Neighborhood[T.Northeast Bronx]',\n",
    " 'Neighborhood[T.Northeast Queens]',\n",
    " 'Neighborhood[T.Northwest Brooklyn]',\n",
    " 'Neighborhood[T.Northwest Queens]',\n",
    " 'Neighborhood[T.Port Richmond]',\n",
    " 'Neighborhood[T.Rockaways]',\n",
    " 'Neighborhood[T.South Shore]',\n",
    " 'Neighborhood[T.Southeast Bronx]',\n",
    " 'Neighborhood[T.Southeast Queens]',\n",
    " 'Neighborhood[T.Southern Brooklyn]',\n",
    " 'Neighborhood[T.Southwest Brooklyn]',\n",
    " 'Neighborhood[T.Southwest Queens]',\n",
    " 'Neighborhood[T.Stapleton and St. George]',\n",
    " 'Neighborhood[T.Sunset Park]',\n",
    " 'Neighborhood[T.Upper East Side]',\n",
    " 'Neighborhood[T.Upper West Side]',\n",
    " 'Neighborhood[T.West Central Queens]',\n",
    " 'Neighborhood[T.West Queens]']\n",
    "\n",
    "X_train4 = X_train_allCols.loc[:, cols]\n",
    "X_test4 = X_test_allCols.loc[:, cols]\n",
    "\n",
    "X_train_sm4 = X_train4.copy()\n",
    "X_train_sm4['intercept'] = 1\n",
    "\n",
    "X_test_sm4 = X_test4.copy()\n",
    "X_test_sm4['intercept'] = 1\n",
    "\n",
    "rgrRFE = diagnostic_plot(X_train4, y_train, X_test4,y_test, RFECV(LinearRegression(),cv=5))\n",
    "\n",
    "plt.savefig('ModelFit.png', dpi=1024)"
   ]
  },
  {
   "cell_type": "code",
   "execution_count": null,
   "metadata": {
    "collapsed": false
   },
   "outputs": [],
   "source": [
    "cols = ['baths', 'bedrooms', 'commuteDistance',\n",
    "       'AdditionalStorage', 'AirConditioning', 'Alarm',\n",
    "       'Balcony', 'Balcony,Deck,orPatio',\n",
    "       'BikeRoom', 'CableReady', 'CatsAllowed', 'CentralAc', 'Concierge',\n",
    "       'ControlledAccess', 'Deck', 'Dishwasher', 'DogsAllowed',\n",
    "       'DoorAttendant', 'DoublePaneWindows', 'Elevator',\n",
    "       'FiosAvailable', 'FitnessCenter', 'FloorCovering:Hardwood',\n",
    "       'FullTimeDoorman', 'Garage', 'Garden', 'Granitecountertop',\n",
    "       'GuarantorOk', 'Guarantors', 'HardwoodFloors', 'Heatingincludedinrent',\n",
    "       'Hotwaterincludedinrent', 'Laundry', 'LiveInSuper', \n",
    "       \n",
    "        'MedianHouseholdIncome', \n",
    "        'MedianAge',\n",
    "        \n",
    "'Neighborhood[T.Bronx Park and Fordham]',\n",
    " 'Neighborhood[T.Bushwick and Williamsburg]',\n",
    " 'Neighborhood[T.Canarsie and Flatlands]',\n",
    " 'Neighborhood[T.Central Bronx]',\n",
    " 'Neighborhood[T.Central Brooklyn]',\n",
    " 'Neighborhood[T.Central Harlem]',\n",
    " 'Neighborhood[T.Central Queens]',\n",
    " 'Neighborhood[T.Chelsea and Clinton]',\n",
    " 'Neighborhood[T.East Harlem]',\n",
    " 'Neighborhood[T.East New York and New Lots]',\n",
    " 'Neighborhood[T.Flatbush]',\n",
    " 'Neighborhood[T.Gramercy Park and Murray Hill]',\n",
    " 'Neighborhood[T.Greenpoint]',\n",
    " 'Neighborhood[T.Greenwich Village and Soho]',\n",
    " 'Neighborhood[T.High Bridge and Morrisania]',\n",
    " 'Neighborhood[T.Hunts Point and Mott Haven]',\n",
    " 'Neighborhood[T.Inwood and Washington Heights]',\n",
    " 'Neighborhood[T.Jamaica]',\n",
    " 'Neighborhood[T.Kingsbridge and Riverdale]',\n",
    " 'Neighborhood[T.Lower East Side]',\n",
    " 'Neighborhood[T.Lower Manhattan]',\n",
    " 'Neighborhood[T.Mid-Island]',\n",
    " 'Neighborhood[T.North Queens]',\n",
    " 'Neighborhood[T.Northeast Bronx]',\n",
    " 'Neighborhood[T.Northeast Queens]',\n",
    " 'Neighborhood[T.Northwest Brooklyn]',\n",
    " 'Neighborhood[T.Northwest Queens]',\n",
    " 'Neighborhood[T.Port Richmond]',\n",
    " 'Neighborhood[T.Rockaways]',\n",
    " 'Neighborhood[T.South Shore]',\n",
    " 'Neighborhood[T.Southeast Bronx]',\n",
    " 'Neighborhood[T.Southeast Queens]',\n",
    " 'Neighborhood[T.Southern Brooklyn]',\n",
    " 'Neighborhood[T.Southwest Brooklyn]',\n",
    " 'Neighborhood[T.Southwest Queens]',\n",
    " 'Neighborhood[T.Stapleton and St. George]',\n",
    " 'Neighborhood[T.Sunset Park]',\n",
    " 'Neighborhood[T.Upper East Side]',\n",
    " 'Neighborhood[T.Upper West Side]',\n",
    " 'Neighborhood[T.West Central Queens]',\n",
    " 'Neighborhood[T.West Queens]']\n",
    "\n",
    "X = subDataset.loc[ :, [col for col in subDataset.columns if not 'price' in col]]\n",
    "y = dataset.loc[:,'log_price']\n",
    "\n",
    "X_train_allCols, X_test_allCols, y_train, y_test = train_test_split(X, y, test_size=0.3)\n",
    "\n",
    "X_train4 = X_train_allCols.loc[:, cols]\n",
    "X_test4 = X_test_allCols.loc[:, cols]\n",
    "\n",
    "X_train_sm4 = X_train4.copy()\n",
    "X_train_sm4['intercept'] = 1\n",
    "\n",
    "X_test_sm4 = X_test4.copy()\n",
    "X_test_sm4['intercept'] = 1\n",
    "\n",
    "rgrRFE = diagnostic_plot(X_train4, y_train, X_test4,y_test, RFECV(LinearRegression(),cv=5))\n",
    "\n"
   ]
  },
  {
   "cell_type": "code",
   "execution_count": null,
   "metadata": {
    "collapsed": false
   },
   "outputs": [],
   "source": [
    "t = pd.DataFrame([X_train4.iloc[:,rgrRFE.get_support(indices=True)].columns,rgrRFE.estimator_.coef_]).T.sort_values(1)\n",
    "t.loc[t[0].str.contains('Neigh')]"
   ]
  },
  {
   "cell_type": "code",
   "execution_count": null,
   "metadata": {
    "collapsed": false
   },
   "outputs": [],
   "source": [
    "unitListingsDf.groupby('Borough').price"
   ]
  },
  {
   "cell_type": "markdown",
   "metadata": {},
   "source": [
    "#### Model Comparison ####"
   ]
  },
  {
   "cell_type": "code",
   "execution_count": null,
   "metadata": {
    "collapsed": true
   },
   "outputs": [],
   "source": [
    "\n",
    "# Allow x to have multiple columns\n",
    "def diagnostic_plot_comparison(X_train,y_train,X_test,y_test, rgr):\n",
    "    plt.figure(figsize=(15,15\n",
    "                       ))\n",
    "    \n",
    "    #rgr = LinearRegression()\n",
    "    #if len(x.shape) == 1:\n",
    "    #    x = x[:,None]\n",
    "    rgr.fit(X_train,y_train)\n",
    "    \n",
    "    # Print out the R^2 for the traing dataset\n",
    "    print('Training set R2: ' + str(rgr.score(X_train,y_train)))\n",
    "\n",
    "    # Print out the R^2 for the test dataset\n",
    "    print('Test set R2: ' + str(rgr.score(X_test,y_test)))\n",
    "    \n",
    "    X = X_test.append(X_train)\n",
    "    y = y_test.append(y_train)\n",
    "    # Print out the R^2 for the complete dataset\n",
    "    print('Complete Dataset R2: ' + str(rgr.score(X,y)))\n",
    "    \n",
    "    #pred_train = rgr.predict(X_train)\n",
    "    \n",
    "    pred = rgr.predict(X)\n",
    "    \n",
    "    fig1 = plt.subplot(2, 1, 1)\n",
    "    frame = fig1.add_axes((.1,.3,.8,.6))\n",
    "    #plt.scatter(x[:,0],y)\n",
    "    sns.regplot(y, pred, color='red')\n",
    "#    plt.plot(x[:,0], pred, color='blue',linewidth=1)\n",
    "    plt.title(\"Regression fit - Complete Set\")\n",
    "    plt.xlabel(\"Actual Price\")\n",
    "    plt.ylabel(\"Predicted Price\")\n",
    "    \n",
    "#     plt.subplot(2, 3, 2)\n",
    "    res = y- pred\n",
    "    frame2=fig1.add_axes((.1,.1,.8,.2)) \n",
    "    sns.regplot(y, res)\n",
    "    plt.title(\"Residual plot - Complete Set\")\n",
    "    plt.xlabel(\"Actual price\")\n",
    "    plt.ylabel(\"residuals\")\n",
    "    \n",
    "    plt.subplot(2, 1, 2)\n",
    "    #Generates a probability plot of sample data against the quantiles of a \n",
    "    # specified theoretical distribution \n",
    "    stats.probplot(res, dist=\"norm\", plot=plt)\n",
    "    plt.title(\"Normal Q-Q plot - Complete Set\")\n",
    "    \n",
    "#     rgr.fit(X_train4,y_train)\n",
    "    \n",
    "#     pred_train = rgr.predict(X_train4)  \n",
    "    \n",
    "#     X = X_test.append(X_train4)\n",
    "#     y = y_test.append(y_train)\n",
    "    \n",
    "#     # Print out the R^2 for the traing dataset\n",
    "#     print('Training set R2: ' + str(rgr.score(X_train4,y_train)))\n",
    "\n",
    "#     # Print out the R^2 for the test dataset\n",
    "#     print('Test set R2: ' + str(rgr.score(X_test4,y_test)))\n",
    "    \n",
    "#     X = X_test.append(X_train4)\n",
    "#     y = y_test.append(y_train)\n",
    "#     # Print out the R^2 for the complete dataset\n",
    "#     print('Complete Dataset R2: ' + str(rgr.score(X,y)))\n",
    "    \n",
    "#     pred = rgr.predict(X)\n",
    "    \n",
    "#     plt.subplot(2, 3, 1)\n",
    "#     #plt.scatter(x[:,0],y)\n",
    "#     sns.regplot(y, pred, color='red')\n",
    "# #    plt.plot(x[:,0], pred, color='blue',linewidth=1)\n",
    "#     plt.title(\"Regression fit - Complete Set\")\n",
    "#     plt.xlabel(\"Actual Price\")\n",
    "#     plt.ylabel(\"Predicted Price\")\n",
    "    \n",
    "#     plt.subplot(2, 3, 2)\n",
    "#     res = y- pred\n",
    "#     sns.regplot(y, res)\n",
    "#     plt.title(\"Residual plot - Complete Set\")\n",
    "#     plt.xlabel(\"Actual price\")\n",
    "#     plt.ylabel(\"residuals\")\n",
    "    \n",
    "#     plt.subplot(2, 3, 3)\n",
    "#     #Generates a probability plot of sample data against the quantiles of a \n",
    "#     # specified theoretical distribution \n",
    "#     stats.probplot(res, dist=\"norm\", plot=plt)\n",
    "#     plt.title(\"Normal Q-Q plot - Complete Set\")\n",
    "\n",
    "    return(rgr)"
   ]
  },
  {
   "cell_type": "code",
   "execution_count": null,
   "metadata": {
    "collapsed": false
   },
   "outputs": [],
   "source": [
    "rgr = RFECV(LinearRegression(), cv=5)\n",
    "rgr.fit(X_train,y_train)"
   ]
  },
  {
   "cell_type": "code",
   "execution_count": null,
   "metadata": {
    "collapsed": false
   },
   "outputs": [],
   "source": [
    "rgrRFE = diagnostic_plot_comparison(X_train1, y_train, X_test1,y_test,X_train4,X_test4, RFECV(LinearRegression(),cv=5))"
   ]
  },
  {
   "cell_type": "code",
   "execution_count": null,
   "metadata": {
    "collapsed": false
   },
   "outputs": [],
   "source": [
    "len(unitListingsDf.zipCode.unique())"
   ]
  },
  {
   "cell_type": "markdown",
   "metadata": {},
   "source": [
    "Create Amenities one hot columns"
   ]
  },
  {
   "cell_type": "code",
   "execution_count": null,
   "metadata": {
    "collapsed": false
   },
   "outputs": [],
   "source": [
    "pd.read_pickle('allSummaryLinksDF.pkl').shape"
   ]
  },
  {
   "cell_type": "code",
   "execution_count": null,
   "metadata": {
    "collapsed": true
   },
   "outputs": [],
   "source": []
  },
  {
   "cell_type": "code",
   "execution_count": null,
   "metadata": {
    "collapsed": false
   },
   "outputs": [],
   "source": [
    "def oneHotAmmenties(unitListingsDf, topPropAmenities, topUnitAmenities):\n",
    "    topAmenitiesList = list(set(topPropAmenities + topUnitAmenities))\n",
    "    t = pd.concat([unitListingsDf, pd.DataFrame(columns=topAmenitiesList)])\n",
    "    t[topAmenitiesList ] = 0\n",
    "\n",
    "    def propAmenityTransform(x):\n",
    "        for col in set(x.origpropertyAmenities + x.origunitAmenities):\n",
    "            if col in topAmenitiesList:\n",
    "                x[col] = 1\n",
    "        return(x)\n",
    "\n",
    "    t = t.apply(lambda x: propAmenityTransform(x), axis=1)\n",
    "    return(t)"
   ]
  },
  {
   "cell_type": "code",
   "execution_count": null,
   "metadata": {
    "collapsed": false
   },
   "outputs": [],
   "source": [
    "unitListingsDf.shape"
   ]
  },
  {
   "cell_type": "code",
   "execution_count": null,
   "metadata": {
    "collapsed": false
   },
   "outputs": [],
   "source": [
    "#unitListingsDf = unitListingsDf.dropna()\n",
    "numericColumns = unitListingsDf.select_dtypes(exclude=['object']).columns\n",
    "print(unitListingsDf.shape)\n",
    "unitListingsDf = unitListingsDf.dropna(subset=numericColumns)\n",
    "unitListingsDf.shape\n"
   ]
  },
  {
   "cell_type": "code",
   "execution_count": null,
   "metadata": {
    "collapsed": false
   },
   "outputs": [],
   "source": [
    "import seaborn as sns\n",
    "\n",
    "numericColumnsLogsOnly = [col for col in numericColumns if not (('log_' + col) in numericColumns)]\n",
    "\n",
    "sns.pairplot(unitListingsDf[numericColumnsLogsOnly])"
   ]
  },
  {
   "cell_type": "code",
   "execution_count": null,
   "metadata": {
    "collapsed": false
   },
   "outputs": [],
   "source": [
    "sns.heatmap(unitListingsDf[numericColumnsLogsOnly].corr())"
   ]
  },
  {
   "cell_type": "code",
   "execution_count": null,
   "metadata": {
    "collapsed": false
   },
   "outputs": [],
   "source": []
  },
  {
   "cell_type": "code",
   "execution_count": null,
   "metadata": {
    "collapsed": false,
    "scrolled": true
   },
   "outputs": [],
   "source": [
    "import patsy\n",
    "\n",
    "def oneHotNeighborhoods(unitListingsDf):\n",
    "    return(unitListingsDf.join(patsy.dmatrix('Neighborhood', data=unitListingsDf, return_type='dataframe')))\n",
    "\n"
   ]
  },
  {
   "cell_type": "code",
   "execution_count": null,
   "metadata": {
    "collapsed": false
   },
   "outputs": [],
   "source": [
    "oneHotAmmenties(oneHotNeighborhoods(unitListingsDf), topPropAmenities, topUnitAmenities).isnull()"
   ]
  },
  {
   "cell_type": "code",
   "execution_count": null,
   "metadata": {
    "collapsed": false
   },
   "outputs": [],
   "source": [
    "unitListingsDf.columns"
   ]
  },
  {
   "cell_type": "code",
   "execution_count": null,
   "metadata": {
    "collapsed": false
   },
   "outputs": [],
   "source": [
    "unitListingsDf = unitListingsDf.merge(medianAgeByNeighborhood, on = 'Neighborhood').merge(medianIncomeByNeighborhood, on='Neighborhood')\n"
   ]
  },
  {
   "cell_type": "code",
   "execution_count": null,
   "metadata": {
    "collapsed": false
   },
   "outputs": [],
   "source": [
    "sns.heatmap(unitListingsDf.corr())"
   ]
  },
  {
   "cell_type": "code",
   "execution_count": null,
   "metadata": {
    "collapsed": false
   },
   "outputs": [],
   "source": [
    "print(unitListingsDf.columns)\n",
    "\n",
    "dataset = oneHotAmmenties(oneHotNeighborhoods(unitListingsDf), topPropAmenities, topUnitAmenities).select_dtypes(exclude=['object'])\n",
    "\n",
    "\n",
    "colsToKeep = [x for x in dataset.columns if not 'orig'in x]\n",
    "colsToKeep = [x for x in colsToKeep if not x in ('Neighborhood', 'Borough', 'zipCode')]\n",
    "print(colsToKeep)\n",
    "colsToKeep = [x for x in colsToKeep if not ('log_' + x) in colsToKeep]\n",
    "print(colsToKeep)\n",
    "colsToKeep = [x for x in colsToKeep if not x in ['log_baths', 'log_commuteDistance']]\n",
    "print(colsToKeep)\n",
    "dataset = dataset[colsToKeep].dropna()\n",
    "print(colsToKeep)\n",
    "\n",
    "X = dataset[ [col for col in colsToKeep if not 'price' in col]]\n",
    "y = dataset['log_price']"
   ]
  },
  {
   "cell_type": "code",
   "execution_count": null,
   "metadata": {
    "collapsed": false
   },
   "outputs": [],
   "source": []
  },
  {
   "cell_type": "code",
   "execution_count": null,
   "metadata": {
    "collapsed": false
   },
   "outputs": [],
   "source": [
    "dataset.shape"
   ]
  },
  {
   "cell_type": "code",
   "execution_count": null,
   "metadata": {
    "collapsed": false
   },
   "outputs": [],
   "source": [
    "\n",
    "# Python 2 & 3 Compatibility\n",
    "from __future__ import print_function, division\n",
    "\n",
    "# Necessary imports\n",
    "import pandas as pd\n",
    "import numpy as np\n",
    "import seaborn as sns\n",
    "from seaborn import plt\n",
    "from sklearn.linear_model import LinearRegression\n",
    "from sklearn.model_selection import train_test_split\n",
    "from sklearn.linear_model import RidgeCV\n",
    "from sklearn.pipeline import make_pipeline\n",
    "from sklearn.preprocessing import PolynomialFeatures\n",
    "from sklearn.model_selection import KFold\n",
    "import statsmodels.api as sm\n",
    "import statsmodels.formula.api as smf\n",
    "\n",
    "\n"
   ]
  },
  {
   "cell_type": "markdown",
   "metadata": {},
   "source": [
    "Test/Train split"
   ]
  },
  {
   "cell_type": "code",
   "execution_count": null,
   "metadata": {
    "collapsed": true
   },
   "outputs": [],
   "source": [
    "X_train, X_test, y_train, y_test = train_test_split(X, y, test_size=0.3)"
   ]
  },
  {
   "cell_type": "code",
   "execution_count": null,
   "metadata": {
    "collapsed": false
   },
   "outputs": [],
   "source": [
    "X_train.shape"
   ]
  },
  {
   "cell_type": "markdown",
   "metadata": {},
   "source": [
    "Simple linear regression on training data"
   ]
  },
  {
   "cell_type": "code",
   "execution_count": null,
   "metadata": {
    "collapsed": false
   },
   "outputs": [],
   "source": [
    "\n",
    "# Create your model\n",
    "model = sm.OLS(y_train, X_train)\n",
    "\n",
    "# Fit your model to your training set\n",
    "fit = model.fit()\n",
    "\n",
    "# Print summary statistics of the model's performance\n",
    "fit.summary()"
   ]
  },
  {
   "cell_type": "code",
   "execution_count": null,
   "metadata": {
    "collapsed": false,
    "scrolled": true
   },
   "outputs": [],
   "source": [
    "X_train.isnull().sum().sort_values(ascending=False)"
   ]
  },
  {
   "cell_type": "code",
   "execution_count": null,
   "metadata": {
    "collapsed": true
   },
   "outputs": [],
   "source": []
  },
  {
   "cell_type": "code",
   "execution_count": null,
   "metadata": {
    "collapsed": true
   },
   "outputs": [],
   "source": []
  },
  {
   "cell_type": "code",
   "execution_count": null,
   "metadata": {
    "collapsed": true
   },
   "outputs": [],
   "source": [
    "from sklearn.metrics import mean_squared_error, mean_absolute_error"
   ]
  },
  {
   "cell_type": "code",
   "execution_count": null,
   "metadata": {
    "collapsed": true
   },
   "outputs": [],
   "source": [
    "#mean_squared_error?"
   ]
  },
  {
   "cell_type": "code",
   "execution_count": null,
   "metadata": {
    "collapsed": false
   },
   "outputs": [],
   "source": [
    "sns.regplot(y_train, fit.resid)\n",
    "\n"
   ]
  },
  {
   "cell_type": "code",
   "execution_count": null,
   "metadata": {
    "collapsed": false
   },
   "outputs": [],
   "source": [
    "# Create an empty model\n",
    "lr = LinearRegression()\n",
    "\n",
    "# Fit the model to the full dataset\n",
    "lr.fit(X_train, y_train)\n",
    "\n",
    "# Print out the R^2 for the model against the full dataset\n",
    "lr.score(X_train,y_train)"
   ]
  },
  {
   "cell_type": "code",
   "execution_count": null,
   "metadata": {
    "collapsed": false
   },
   "outputs": [],
   "source": [
    "lr.score(X_test,y_test)"
   ]
  },
  {
   "cell_type": "code",
   "execution_count": null,
   "metadata": {
    "collapsed": false,
    "scrolled": true
   },
   "outputs": [],
   "source": [
    "fig = plt.figure(figsize=(6,6))\n",
    "ax = plt.axes()\n",
    "\n",
    "ax.scatter(lr.predict(X_test),y_test)\n",
    "\n",
    "min_val = min(ax.get_xlim()[0], ax.get_ylim()[0])\n",
    "max_val = min(ax.get_xlim()[1], ax.get_ylim()[1])\n",
    "\n",
    "ax.set_xlim(min_val,max_val)\n",
    "ax.set_ylim(min_val,max_val)\n",
    "\n",
    "ax.plot([min_val, max_val], [min_val,max_val])\n",
    "ax.set_xlabel('predicted log_price')\n",
    "ax.set_ylabel('actual log_price')\n",
    "\n"
   ]
  },
  {
   "cell_type": "code",
   "execution_count": null,
   "metadata": {
    "collapsed": false
   },
   "outputs": [],
   "source": [
    "degree = 2\n",
    "est = make_pipeline(PolynomialFeatures(degree), LinearRegression())\n",
    "est.fit(X_train, y_train)"
   ]
  },
  {
   "cell_type": "code",
   "execution_count": null,
   "metadata": {
    "collapsed": false
   },
   "outputs": [],
   "source": [
    "est.score(X_train,y_train)"
   ]
  },
  {
   "cell_type": "code",
   "execution_count": null,
   "metadata": {
    "collapsed": false
   },
   "outputs": [],
   "source": [
    "est.score(X_test,y_test)"
   ]
  },
  {
   "cell_type": "code",
   "execution_count": null,
   "metadata": {
    "collapsed": false
   },
   "outputs": [],
   "source": [
    "plt.scatter(est.predict(X_train),y_train)"
   ]
  },
  {
   "cell_type": "code",
   "execution_count": null,
   "metadata": {
    "collapsed": false
   },
   "outputs": [],
   "source": [
    "plt.scatter(est.predict(X_test),y_test)"
   ]
  },
  {
   "cell_type": "code",
   "execution_count": null,
   "metadata": {
    "collapsed": false
   },
   "outputs": [],
   "source": [
    "from sklearn.feature_selection import RFECV\n",
    "\n",
    "rfecv = RFECV(LinearRegression(), step=1, cv=5)#, scoring='neg_mean_squared_error')\n",
    "rfecv = rfecv.fit(X_train, y_train)\n",
    "#rfecv.predict(y_test) or rfecv.estimator_.predict(y_test)"
   ]
  },
  {
   "cell_type": "code",
   "execution_count": null,
   "metadata": {
    "collapsed": false
   },
   "outputs": [],
   "source": [
    "rfecv.score(X_train, y_train)"
   ]
  },
  {
   "cell_type": "code",
   "execution_count": null,
   "metadata": {
    "collapsed": false
   },
   "outputs": [],
   "source": [
    "rfecv.score(X_test, y_test)"
   ]
  },
  {
   "cell_type": "code",
   "execution_count": null,
   "metadata": {
    "collapsed": false
   },
   "outputs": [],
   "source": [
    "X_train.shape"
   ]
  },
  {
   "cell_type": "code",
   "execution_count": null,
   "metadata": {
    "collapsed": false
   },
   "outputs": [],
   "source": [
    "rfecv.n_features_"
   ]
  },
  {
   "cell_type": "code",
   "execution_count": null,
   "metadata": {
    "collapsed": true
   },
   "outputs": [],
   "source": []
  },
  {
   "cell_type": "code",
   "execution_count": null,
   "metadata": {
    "collapsed": false,
    "scrolled": false
   },
   "outputs": [],
   "source": [
    "coefs = pd.DataFrame({'var':X.iloc[:,rfecv.get_support(indices=True)].columns, 'coef':rfecv.estimator_.coef_})\n",
    "#coefs.plot.barh(x='var')\n",
    "coefs.sort_values('coef', ascending=True)\n",
    "#rfecv.get_support(indices=True)"
   ]
  },
  {
   "cell_type": "code",
   "execution_count": null,
   "metadata": {
    "collapsed": false
   },
   "outputs": [],
   "source": [
    "from sklearn.linear_model import ElasticNetCV\n",
    "\n",
    "estElastics = ElasticNetCV(cv=5)\n",
    "estElastics.fit(X_train, y_train)\n",
    "estElastics.score(X_train,y_train)"
   ]
  },
  {
   "cell_type": "code",
   "execution_count": null,
   "metadata": {
    "collapsed": false
   },
   "outputs": [],
   "source": [
    "estElastics.coef_"
   ]
  },
  {
   "cell_type": "code",
   "execution_count": null,
   "metadata": {
    "collapsed": false
   },
   "outputs": [],
   "source": [
    "from sklearn.feature_selection import RFECV\n",
    "\n",
    "\n",
    "lr4 = LinearRegression()\n",
    "rfe = RFECV(lr4, cv=5)\n",
    "rfe.fit(X_train, y_train)\n",
    "rfe.score(X_train,y_train)"
   ]
  },
  {
   "cell_type": "code",
   "execution_count": null,
   "metadata": {
    "collapsed": false
   },
   "outputs": [],
   "source": [
    "rfe.score(X_test,y_test)"
   ]
  },
  {
   "cell_type": "code",
   "execution_count": null,
   "metadata": {
    "collapsed": false
   },
   "outputs": [],
   "source": [
    "len(rfe.ranking_)"
   ]
  },
  {
   "cell_type": "code",
   "execution_count": null,
   "metadata": {
    "collapsed": false
   },
   "outputs": [],
   "source": [
    "len(lr.coef_)"
   ]
  },
  {
   "cell_type": "code",
   "execution_count": null,
   "metadata": {
    "collapsed": false
   },
   "outputs": [],
   "source": [
    "fig = plt.figure(figsize=(6,6))\n",
    "ax = plt.axes()\n",
    "\n",
    "ax.scatter(rfe.predict(X_test),y_test)\n",
    "\n",
    "min_val = min(ax.get_xlim()[0], ax.get_ylim()[0])\n",
    "max_val = min(ax.get_xlim()[1], ax.get_ylim()[1])\n",
    "\n",
    "ax.set_xlim(min_val,max_val)\n",
    "ax.set_ylim(min_val,max_val)\n",
    "\n",
    "ax.plot([min_val, max_val], [min_val,max_val])\n",
    "ax.set_xlabel('predicted log_price')\n",
    "ax.set_ylabel('actual log_price')\n",
    "plt.title('RFE & LinearRegression - Predicted vs. Actual Values')\n",
    "fig.savefig('RFELinearRegression.png')\n"
   ]
  },
  {
   "cell_type": "code",
   "execution_count": null,
   "metadata": {
    "collapsed": false
   },
   "outputs": [],
   "source": [
    "\n",
    "# fig = plt.figure(figsize=(6,6))\n",
    "# ax = plt.axes()\n",
    "\n",
    "# (y_test - (rfe.predict(X_test))).plot(style='o')\n",
    "\n",
    "# min_val = min(ax.get_xlim()[0], ax.get_ylim()[0])\n",
    "# max_val = min(ax.get_xlim()[1], ax.get_ylim()[1])\n",
    "\n",
    "# ax.set_xlim(min_val,max_val)\n",
    "# ax.set_ylim(min_val,max_val)\n",
    "\n",
    "# ax.plot([min_val, max_val], [min_val,max_val])\n",
    "# ax.set_xlabel('predicted log_price')\n",
    "# ax.set_ylabel('actual log_price')\n",
    "# plt.title('RFE & LinearRegression - Predicted vs. Actual Values')\n",
    "# fig.savefig('RFELinearRegression.png')"
   ]
  },
  {
   "cell_type": "code",
   "execution_count": null,
   "metadata": {
    "collapsed": false
   },
   "outputs": [],
   "source": [
    "resids  = (y_test - (rfe.predict(X_test)))\n",
    "#plt.scatter(y_test, resids)\n",
    "ax = sns.regplot(x=y_test, y=resids)\n",
    "plt.title('Residuals')\n",
    "plt.ylabel('Residual')\n",
    "plt.savefig('RFELinearRegression.Residuals.png')"
   ]
  },
  {
   "cell_type": "code",
   "execution_count": null,
   "metadata": {
    "collapsed": false
   },
   "outputs": [],
   "source": [
    "#plt.scatter(unitListingsDf.origlatitude, unitListingsDf.origlongitude,\n",
    "#            color=unitListingsDf.price)\n",
    "\n",
    "sns.lmplot('origlatitude', 'origlongitude',\n",
    "           data=unitListingsDf,\n",
    "           fit_reg=False,\n",
    "           hue=\"price\",  \n",
    "           scatter_kws={\"marker\": \"D\",\n",
    "                        \"s\": 10},\n",
    "           legend = False )\n"
   ]
  },
  {
   "cell_type": "code",
   "execution_count": null,
   "metadata": {
    "collapsed": false
   },
   "outputs": [],
   "source": [
    "from sklearn.linear_model import LassoCV\n",
    "from sklearn.linear_model import RidgeCV\n",
    "\n",
    "est = ElasticNetCV()\n",
    "est.fit(X_train, y_train)\n",
    "est.score(X_train, y_train)"
   ]
  },
  {
   "cell_type": "code",
   "execution_count": null,
   "metadata": {
    "collapsed": false
   },
   "outputs": [],
   "source": [
    "est.score(X_test,y_test)"
   ]
  },
  {
   "cell_type": "code",
   "execution_count": null,
   "metadata": {
    "collapsed": false
   },
   "outputs": [],
   "source": []
  },
  {
   "cell_type": "code",
   "execution_count": null,
   "metadata": {
    "collapsed": true
   },
   "outputs": [],
   "source": []
  },
  {
   "cell_type": "code",
   "execution_count": null,
   "metadata": {
    "collapsed": true
   },
   "outputs": [],
   "source": []
  },
  {
   "cell_type": "code",
   "execution_count": null,
   "metadata": {
    "collapsed": true
   },
   "outputs": [],
   "source": []
  }
 ],
 "metadata": {
  "kernelspec": {
   "display_name": "Python 3",
   "language": "python",
   "name": "python3"
  },
  "language_info": {
   "codemirror_mode": {
    "name": "ipython",
    "version": 3
   },
   "file_extension": ".py",
   "mimetype": "text/x-python",
   "name": "python",
   "nbconvert_exporter": "python",
   "pygments_lexer": "ipython3",
   "version": "3.6.0"
  }
 },
 "nbformat": 4,
 "nbformat_minor": 2
}
